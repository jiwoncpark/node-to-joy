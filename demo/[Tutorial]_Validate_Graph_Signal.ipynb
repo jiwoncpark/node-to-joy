{
 "cells": [
  {
   "cell_type": "code",
   "execution_count": null,
   "metadata": {},
   "outputs": [],
   "source": [
    "import os\n",
    "import numpy as np\n",
    "import pandas as pd\n",
    "import matplotlib.pyplot as plt\n",
    "%matplotlib inline\n",
    "%load_ext autoreload\n",
    "%autoreload 2"
   ]
  },
  {
   "cell_type": "markdown",
   "metadata": {},
   "source": [
    "# Validating kappa signal in the graphs\n",
    "\n",
    "__Author:__ Ji Won Park (@jiwoncpark)\n",
    "\n",
    "__Created:__ 4/22/2021\n",
    "\n",
    "__Last run:__ 4/22/2021\n",
    "\n",
    "__Goals:__\n",
    "We visualize the correlation between graph features and the output kappa.\n",
    "\n",
    "__Before_running:__\n",
    "Generate the labels with explicit kappa sampling (moving the constituent halos around in each sightline field of view (FOV) multiple times and evaluating kappa at the center), e.g.\n",
    "```python\n",
    "kappa_sampler = CosmoDC2Raytracer(in_dir=IN_DIR,\n",
    "                                  out_dir='../kappa_sampling',\n",
    "                                  fov=0.85,\n",
    "                                  healpix=10450,\n",
    "                                  n_sightlines=1000,  # keep this small\n",
    "                                  mass_cut=11.0,\n",
    "                                  n_kappa_samples=1000)\n",
    "kappa_sampler.parallel_raytrace()\n",
    "kappa_sampler.apply_calibration()\n",
    "```"
   ]
  },
  {
   "cell_type": "code",
   "execution_count": null,
   "metadata": {},
   "outputs": [],
   "source": [
    "from n2j.trainval_data.raytracers.cosmodc2_raytracer import CosmoDC2Raytracer\n",
    "\n",
    "IN_DIR = '../n2j/data'  # where raw data lies\n",
    "TRAIN_HP = [10327]\n",
    "N_TRAIN = 1000\n",
    "BATCH_SIZE = min(N_TRAIN//5, 25)\n",
    "    \n",
    "# Use this to infer the mean kappa contribution of new sightlines\n",
    "for hp in TRAIN_HP:\n",
    "    train_Y_generator = CosmoDC2Raytracer(in_dir=IN_DIR,\n",
    "                                          out_dir=f'../demo_Y_{hp}',\n",
    "                                          kappa_sampling_dir='../kappa_sampling',\n",
    "                                          fov=0.85,\n",
    "                                          healpix=hp,\n",
    "                                          n_sightlines=N_TRAIN,\n",
    "                                          mass_cut=11.0,\n",
    "                                          n_kappa_samples=0)  # no sampling\n",
    "    train_Y_generator.parallel_raytrace()\n",
    "    train_Y_generator.apply_calibration()"
   ]
  },
  {
   "cell_type": "markdown",
   "metadata": {},
   "source": [
    "Now we build graphs for these 100 sightlines we just computed labels for."
   ]
  },
  {
   "cell_type": "code",
   "execution_count": null,
   "metadata": {},
   "outputs": [],
   "source": [
    "from n2j.trainval_data.graphs.cosmodc2_graph import CosmoDC2Graph\n",
    "# Features to compile\n",
    "features = ['ra', 'dec', 'galaxy_id', 'redshift']\n",
    "features += ['ra_true', 'dec_true', 'redshift_true']\n",
    "features += ['ellipticity_1_true', 'ellipticity_2_true']\n",
    "features += ['bulge_to_total_ratio_i', 'ellipticity_1_bulge_true', 'ellipticity_1_disk_true',\n",
    "             'ellipticity_2_bulge_true', 'ellipticity_2_disk_true', ]\n",
    "features += ['shear1', 'shear2', 'convergence']\n",
    "features += ['size_bulge_true', 'size_disk_true', 'size_true']\n",
    "features += ['mag_{:s}_lsst'.format(b) for b in 'ugrizY']\n",
    "\n",
    "train_XY = CosmoDC2Graph(in_dir=IN_DIR, \n",
    "                         healpixes=TRAIN_HP, \n",
    "                         raytracing_out_dirs=[f'../demo_Y_{hp}' for hp in TRAIN_HP], \n",
    "                         aperture_size=1.0,\n",
    "                         n_data=[100], \n",
    "                         features=features, \n",
    "                         stop_mean_std_early=False)"
   ]
  },
  {
   "cell_type": "code",
   "execution_count": null,
   "metadata": {},
   "outputs": [],
   "source": [
    "train_XY[0].x.shape, train_XY[1].x[:, -3].shape, train_XY[1].y.shape, train_XY.cumulative_sizes"
   ]
  },
  {
   "cell_type": "code",
   "execution_count": null,
   "metadata": {},
   "outputs": [],
   "source": [
    "n_data = sum(train_XY.cumulative_sizes)\n",
    "n_nodes = np.empty(n_data)\n",
    "dist_weighted_sum = np.empty(n_data)\n",
    "dist_3d_weighted_sum = np.empty(n_data)\n",
    "sum_flux = np.empty(n_data)\n",
    "dist_weighted_sum_flux = np.empty(n_data)\n",
    "dist_3d_weighted_sum_flux = np.empty(n_data)\n",
    "kappa = np.empty(n_data)\n",
    "for i in range(n_data):\n",
    "    x = train_XY[i].x.numpy()[1:, :]\n",
    "    y = train_XY[i].y.numpy()\n",
    "    n_nodes[i] = x.shape[0]\n",
    "    flux_nodes = 10**(0.4*x[:, -3])  # -3 is index in features list\n",
    "    ra_diff, dec_diff = x[:, 4]*60.0, x[:, 5]*60.0  # amin\n",
    "    dist_nodes = (ra_diff**2.0 + dec_diff**2.0)**0.5  # 4, 5 are ra_true, dec_true \n",
    "    dist_3d_nodes = (ra_diff**2.0 + dec_diff**2.0 + x[:, 6]**2.0)**0.5  # 6 is z_true\n",
    "    sum_flux[i] = np.sum(flux_nodes)\n",
    "    dist_weighted_sum[i] = np.sum(1/dist_nodes)\n",
    "    dist_3d_weighted_sum[i] = np.sum(dist_3d_nodes)\n",
    "    dist_weighted_sum_flux[i] = np.sum(flux_nodes/dist_nodes)\n",
    "    dist_weighted_sum_flux[i] = np.sum(flux_nodes/dist_3d_nodes)\n",
    "    kappa[i] = y[0, 0]"
   ]
  },
  {
   "cell_type": "code",
   "execution_count": null,
   "metadata": {},
   "outputs": [],
   "source": [
    "plt.scatter(n_nodes, kappa)\n",
    "plt.xlabel('Number of nodes')\n",
    "plt.ylabel('Kappa')"
   ]
  },
  {
   "cell_type": "code",
   "execution_count": null,
   "metadata": {},
   "outputs": [],
   "source": [
    "plt.scatter(dist_weighted_sum_flux, kappa)\n",
    "plt.xlabel('Sum of fluxes per sightline')\n",
    "plt.ylabel('Kappa')"
   ]
  },
  {
   "cell_type": "code",
   "execution_count": null,
   "metadata": {},
   "outputs": [],
   "source": [
    "plt.scatter(dist_weighted_sum_flux, kappa)\n",
    "plt.xlabel('Dist-weighted sum of fluxes per sightline')\n",
    "plt.ylabel('Kappa')"
   ]
  },
  {
   "cell_type": "code",
   "execution_count": null,
   "metadata": {},
   "outputs": [],
   "source": [
    "plt.scatter(dist_weighted_sum, kappa)\n",
    "plt.xlabel('2D Dist-weighted number count per sightline')\n",
    "plt.ylabel('Kappa')"
   ]
  },
  {
   "cell_type": "code",
   "execution_count": null,
   "metadata": {},
   "outputs": [],
   "source": [
    "plt.scatter(dist_3d_weighted_sum, kappa)\n",
    "plt.xlabel('3D ist-weighted number count per sightline')\n",
    "plt.ylabel('Kappa')"
   ]
  },
  {
   "cell_type": "code",
   "execution_count": null,
   "metadata": {},
   "outputs": [],
   "source": [
    "plt.scatter(dist_3d_weighted_sum_flux, kappa)\n",
    "plt.xlabel('3D Dist-weighted number count per sightline')\n",
    "plt.ylabel('Kappa')"
   ]
  },
  {
   "cell_type": "code",
   "execution_count": null,
   "metadata": {},
   "outputs": [],
   "source": []
  }
 ],
 "metadata": {
  "kernelspec": {
   "display_name": "Python (n2j)",
   "language": "python",
   "name": "n2j"
  },
  "language_info": {
   "codemirror_mode": {
    "name": "ipython",
    "version": 3
   },
   "file_extension": ".py",
   "mimetype": "text/x-python",
   "name": "python",
   "nbconvert_exporter": "python",
   "pygments_lexer": "ipython3",
   "version": "3.8.10"
  }
 },
 "nbformat": 4,
 "nbformat_minor": 2
}
