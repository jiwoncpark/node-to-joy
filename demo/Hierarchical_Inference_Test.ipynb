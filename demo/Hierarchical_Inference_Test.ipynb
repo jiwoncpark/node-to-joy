{
 "cells": [
  {
   "cell_type": "code",
   "execution_count": null,
   "metadata": {},
   "outputs": [],
   "source": [
    "import os\n",
    "import sys\n",
    "import cProfile\n",
    "import numpy as np\n",
    "import matplotlib.pyplot as plt\n",
    "import scipy.stats as stats\n",
    "import n2j.inference.infer_utils as iutils\n",
    "from n2j.inference.inference_manager import InferenceManager\n",
    "from n2j.config_utils import get_config_modular\n",
    "\n",
    "%matplotlib inline\n",
    "%load_ext autoreload\n",
    "%autoreload 2"
   ]
  },
  {
   "cell_type": "markdown",
   "metadata": {},
   "source": [
    "# Hierarchical inference\n",
    "\n",
    "__Author:__ Ji Won Park (@jiwoncpark)\n",
    "\n",
    "__Created:__ 7/10/2021 \n",
    "\n",
    "__Last run:__ 8/20/2021\n",
    "\n",
    "__Goal__: Using the BNN-generated $\\kappa$ posteriors, we \n",
    "1. infer the population-level distribution in $\\kappa$ using importance sampling and \n",
    "2. use this information to reweight the individual BNN posteriors so that the interim (training) prior is divided out and the new, inferred test prior reapplied.\n",
    "\n",
    "__Before running:__\n",
    "From the repo root, run\n",
    "```\n",
    "python infer.py <path to config file>\n",
    "```"
   ]
  },
  {
   "cell_type": "markdown",
   "metadata": {},
   "source": [
    "Let's read in the config file, which contains various configs used in training and to be used in inference."
   ]
  },
  {
   "cell_type": "code",
   "execution_count": null,
   "metadata": {},
   "outputs": [],
   "source": [
    "# Paste the path to the config file in the list\n",
    "cfg = get_config_modular(['../tuning_configs_local_test/nersc_config_T8_N_50.yml'])"
   ]
  },
  {
   "cell_type": "markdown",
   "metadata": {},
   "source": [
    "We then instantiate the `InferenceManager` and load the training dataset."
   ]
  },
  {
   "cell_type": "code",
   "execution_count": null,
   "metadata": {},
   "outputs": [],
   "source": [
    "infer_obj = InferenceManager(checkpoint_dir=cfg['trainer']['checkpoint_dir'],\n",
    "                                 **cfg['inference_manager'])\n",
    "# Load training stats (for normalizing data)\n",
    "norm_obj = getattr(stats, cfg['data']['train_dist_name'])(**cfg['data']['train_dist_kwargs'])\n",
    "train_raytracing = [os.path.join(cfg['data']['in_dir'],\n",
    "                                 f'cosmodc2_{hp}/Y_{hp}') for hp in cfg['data']['train_hp']]\n",
    "infer_obj.load_dataset(\n",
    "                       dict(features=cfg['data']['features'],\n",
    "                            raytracing_out_dirs=train_raytracing,\n",
    "                            healpixes=cfg['data']['train_hp'],\n",
    "                            n_data=cfg['data']['n_train'],\n",
    "                            aperture_size=1.0,\n",
    "                            subsample_pdf_func=norm_obj.pdf,\n",
    "                            n_subsample=cfg['data']['n_subsample_train'],\n",
    "                            stop_mean_std_early=False,\n",
    "                            in_dir=cfg['data']['in_dir']),\n",
    "                       sub_features=cfg['data']['sub_features'],\n",
    "                       sub_target=cfg['data']['sub_target'],\n",
    "                       sub_target_local=cfg['data']['sub_target_local'],\n",
    "                       is_train=True,\n",
    "                       batch_size=cfg['data']['batch_size'],\n",
    "                       num_workers=cfg['data']['num_workers'],\n",
    "                       rebin=False,\n",
    "                       noise_kwargs=cfg['data']['noise_kwargs']\n",
    "                       )"
   ]
  },
  {
   "cell_type": "markdown",
   "metadata": {},
   "source": [
    "Next, let's load the test set, subsampling so that the test sightlines follow a narrow normal as defined by the config file."
   ]
  },
  {
   "cell_type": "code",
   "execution_count": null,
   "metadata": {},
   "outputs": [],
   "source": [
    "norm_obj_test = getattr(stats, cfg['test_data']['dist_name'])(**cfg['test_data']['dist_kwargs'])\n",
    "test_raytracing = [os.path.join(cfg['data']['in_dir'],\n",
    "                                f'cosmodc2_{hp}/Y_{hp}') for hp in cfg['test_data']['test_hp']]\n",
    "infer_obj.load_dataset(dict(features=cfg['data']['features'],\n",
    "                            raytracing_out_dirs=test_raytracing,\n",
    "                            healpixes=cfg['test_data']['test_hp'],\n",
    "                            n_data=cfg['test_data']['n_test'],\n",
    "                            aperture_size=1.0,\n",
    "                            subsample_pdf_func=norm_obj_test.pdf,\n",
    "                            n_subsample=cfg['test_data']['n_subsample_test'],\n",
    "                            in_dir=cfg['data']['in_dir']),\n",
    "                       sub_features=cfg['data']['sub_features'],\n",
    "                       sub_target=cfg['data']['sub_target'],\n",
    "                       sub_target_local=cfg['data']['sub_target_local'],\n",
    "                       is_train=False,\n",
    "                       batch_size=cfg['test_data']['batch_size'],\n",
    "                       noise_kwargs=cfg['data']['noise_kwargs']\n",
    "                       )"
   ]
  },
  {
   "cell_type": "markdown",
   "metadata": {},
   "source": [
    "We have a broad training prior and a narrow, overdense (high-$\\kappa$) test distribution."
   ]
  },
  {
   "cell_type": "code",
   "execution_count": null,
   "metadata": {},
   "outputs": [],
   "source": [
    "# Path to the stored MCMC chain\n",
    "chain_path = os.path.join(infer_obj.out_dir, 'omega_chain.h5')\n",
    "mcmc_samples = iutils.get_mcmc_samples(chain_path, \n",
    "                                       chain_kwargs=dict(flat=True, discard=80))\n",
    "iutils.get_chain_plot(mcmc_samples, None)"
   ]
  },
  {
   "cell_type": "code",
   "execution_count": null,
   "metadata": {},
   "outputs": [],
   "source": [
    "# Interim prior samples\n",
    "train_k = infer_obj.get_true_kappa(is_train=True).squeeze()\n",
    "# Test samples\n",
    "test_k = infer_obj.get_true_kappa(is_train=False).squeeze()\n",
    "# Raw BNN samples\n",
    "k_bnn = infer_obj.get_bnn_kappa()\n",
    "# Reweighted BNN samples\n",
    "k_bnn_reweighted = infer_obj.get_reweighted_bnn_kappa(None, None)\n",
    "print(train_k.shape, test_k.shape, k_bnn.shape, k_bnn_reweighted.shape)\n",
    "grid = np.linspace(-0.2, 0.2, 1000)\n",
    "\n",
    "plt.close('all')\n",
    "_, bins, _ = plt.hist(train_k, bins=20, density=True, color='tab:gray', \n",
    "                      label='train', histtype='step')\n",
    "_ = plt.hist(test_k, bins=10, density=True, color='tab:green', \n",
    "             label='test', histtype='step')\n",
    "_ = plt.hist(k_bnn.reshape(-1), bins=20, density=True, color='tab:orange', \n",
    "             label='stacked BNN samples', histtype='step')\n",
    "_ = plt.hist(k_bnn_reweighted.reshape(-1), bins=20, density=True, color='#d6616b', alpha=0.2,\n",
    "             label='stacked BNN samples, reweighted')\n",
    "\n",
    "plt.xlim([-0.15, 0.2])\n",
    "plt.plot(grid, norm_obj.pdf(grid), color='k')\n",
    "plt.plot(grid, norm_obj_test.pdf(grid), color='k', label='input normal PDF')\n",
    "plt.legend(loc='upper left')\n",
    "plt.xlabel('$\\kappa$')\n",
    "plt.ylabel('Density')"
   ]
  },
  {
   "cell_type": "code",
   "execution_count": null,
   "metadata": {},
   "outputs": [],
   "source": [
    "k_bnn = infer_obj.get_bnn_kappa()\n",
    "print(k_bnn.shape)\n",
    "_ = plt.hist(k_bnn[0, 0, :])"
   ]
  },
  {
   "cell_type": "code",
   "execution_count": null,
   "metadata": {
    "scrolled": false
   },
   "outputs": [],
   "source": [
    "infer_obj.visualize_omega_post(log_idx=1,\n",
    "                               chain_path=chain_path,\n",
    "                               corner_kwargs=dict(\n",
    "                                                 range=[[0, 0.08], [0, 0.045]],\n",
    "                                                 color='#d6616b',\n",
    "                                                 smooth=1.0,\n",
    "                                                 alpha=1.0,\n",
    "                                                 truths=np.array([0.04, 0.005]),\n",
    "                                                 label_kwargs={'fontsize': 30},\n",
    "                                                 labels=[r'$\\mu$', r'$\\sigma$'],\n",
    "                                                 fill_contours=True,\n",
    "                                                 plot_datapoints=False,\n",
    "                                                 plot_contours=True,\n",
    "                                                 show_titles=True,\n",
    "                                                 levels=[0.68, 0.95],\n",
    "                                                 truth_color='k',\n",
    "                                                 contour_kwargs=dict(linestyles='solid', colors='k'),\n",
    "                                      #contourf_kwargs=dict(colors='#843c39'),\n",
    "                                                 quiet=True,\n",
    "                                                 #quantiles=[0.5 - 0.34, 0.5 + 0.34],\n",
    "                                                 title_fmt=\".2g\",\n",
    "                                                 fig=None,\n",
    "                                                 title_kwargs={'fontsize': 18},\n",
    "                                                 #range=[0.99]*len(cols_to_plot),\n",
    "                                                 use_math_text=True,\n",
    "                                                 hist_kwargs=dict(density=True, \n",
    "                                                                  histtype='stepfilled',))\n",
    "                                                 ,\n",
    "                               chain_kwargs=dict(\n",
    "                                                 flat=True,\n",
    "                                                 thin=1,\n",
    "                                                 discard=80\n",
    "                                                 ))"
   ]
  },
  {
   "cell_type": "code",
   "execution_count": null,
   "metadata": {},
   "outputs": [],
   "source": [
    "infer_obj.visualize_omega_post(log_idx=None,\n",
    "                               chain_path=chain_path,\n",
    "                               corner_kwargs=dict(\n",
    "                                                 range=[[0, 0.08], [-6, -2]],\n",
    "                                                 color='#d6616b',\n",
    "                                                 smooth=0.8,\n",
    "                                                 alpha=1.0,\n",
    "                                                 truths=np.array([0.04, np.log(0.005)]),\n",
    "                                                 label_kwargs={'fontsize': 30},\n",
    "                                                 labels=[r'$\\mu$', r'$\\log \\sigma$'],\n",
    "                                                 fill_contours=True,\n",
    "                                                 plot_datapoints=False,\n",
    "                                                 plot_contours=True,\n",
    "                                                 show_titles=True,\n",
    "                                                 levels=[0.68, 0.95],\n",
    "                                                 truth_color='k',\n",
    "                                                 contour_kwargs=dict(linestyles='solid', colors='k'),\n",
    "                                      #contourf_kwargs=dict(colors='#843c39'),\n",
    "                                                 quiet=True,\n",
    "                                                 #quantiles=[0.5 - 0.34, 0.5 + 0.34],\n",
    "                                                 title_fmt=\".2g\",\n",
    "                                                 fig=None,\n",
    "                                                 title_kwargs={'fontsize': 18},\n",
    "                                                 #range=[0.99]*len(cols_to_plot),\n",
    "                                                 use_math_text=True,\n",
    "                                                 hist_kwargs=dict(density=True, \n",
    "                                                                  histtype='stepfilled',))\n",
    "                                                 ,\n",
    "                               chain_kwargs=dict(\n",
    "                                                 flat=True,\n",
    "                                                 thin=1,\n",
    "                                                 discard=75\n",
    "                                                 ))"
   ]
  },
  {
   "cell_type": "code",
   "execution_count": null,
   "metadata": {},
   "outputs": [],
   "source": [
    "idx = 5\n",
    "reweighted_k_bnn = infer_obj.get_reweighted_bnn_kappa(None, None)\n",
    "infer_obj.visualize_kappa_post(idx=idx, n_samples=50, n_mc_dropout=20,\n",
    "                               interim_pdf_func=norm_obj.pdf,\n",
    "                               )\n",
    "grid, log_w = infer_obj.get_kappa_log_weights_grid(idx)\n",
    "bnn_gmm_fit = np.load(os.path.join(infer_obj.out_dir, f'grid_bnn_gmm_{idx}.npy'))\n",
    "plt.plot(grid, bnn_gmm_fit, label='BNN GMM fit', color='tab:green', linestyle='--')\n",
    "#plt.plot(grid, \n",
    "#         9*np.exp(log_w),\n",
    "#         color='#d6616b', label='reweighted analytic')\n",
    "plt.plot(grid, norm_obj.pdf(grid), \n",
    "         color='tab:gray', label='interim prior')\n",
    "\n",
    "plt.legend()"
   ]
  },
  {
   "cell_type": "code",
   "execution_count": null,
   "metadata": {},
   "outputs": [],
   "source": [
    "pre_metrics = infer_obj.pre_reweighting_metrics\n",
    "post_metrics = infer_obj.post_reweighting_metrics"
   ]
  },
  {
   "cell_type": "code",
   "execution_count": null,
   "metadata": {},
   "outputs": [],
   "source": [
    "n_test = len(infer_obj.test_dataset)\n",
    "min_p, max_p = np.min(k_test), np.max(k_test)\n",
    "\n",
    "plt.errorbar(k_test, pre_metrics['med'].values[:n_test], \n",
    "             yerr=pre_metrics['mad'].values[:n_test], fmt='o', color='tab:orange')\n",
    "plt.plot(np.linspace(min_p, max_p, 20), np.linspace(min_p, max_p, 20), \n",
    "         color='tab:gray', linestyle='--', label='1-1')\n",
    "plt.ylim([-0.15, 0.15])\n",
    "plt.xlim([-0.065, 0.085])\n",
    "plt.xlabel('True kappa')\n",
    "plt.ylabel('Pred kappa')\n",
    "plt.title('Pre-reweighting')"
   ]
  },
  {
   "cell_type": "code",
   "execution_count": null,
   "metadata": {},
   "outputs": [],
   "source": [
    "n_test = len(infer_obj.test_dataset)\n",
    "min_p, max_p = np.min(k_test), np.max(k_test)\n",
    "\n",
    "plt.errorbar(k_test, post_metrics['med'].values[:n_test],\n",
    "             yerr=np.stack([post_metrics['minus_sig'].values[:n_test], \n",
    "                            post_metrics['plus_sig'].values[:n_test]], axis=0),\n",
    "             fmt='o', color='tab:red')\n",
    "plt.plot(np.linspace(min_p, max_p, 20), np.linspace(min_p, max_p, 20), \n",
    "         color='tab:gray', linestyle='--', label='1-1')\n",
    "plt.ylim([-0.15, 0.15])\n",
    "plt.xlim([-0.065, 0.085])\n",
    "plt.xlabel('True kappa')\n",
    "plt.ylabel('Pred kappa')\n",
    "plt.title('Post-reweighting')"
   ]
  },
  {
   "cell_type": "code",
   "execution_count": null,
   "metadata": {},
   "outputs": [],
   "source": [
    "plt.close('all')\n",
    "min_p, max_p = np.min(pre_metrics['log_p'].values[:n_test]), np.max(pre_metrics['log_p'].values[:n_test])\n",
    "plt.scatter(pre_metrics['log_p'].values[:n_test], \n",
    "            post_metrics['log_p'].values[:n_test])\n",
    "plt.plot(np.linspace(min_p, max_p, 20), np.linspace(min_p, max_p, 20), \n",
    "         color='tab:gray', linestyle='--', label='1-1')\n",
    "plt.title('Log posterior at the truth')\n",
    "plt.xlabel('Before reweighting')\n",
    "plt.ylabel('After reweighting')\n",
    "plt.legend()"
   ]
  },
  {
   "cell_type": "code",
   "execution_count": null,
   "metadata": {},
   "outputs": [],
   "source": [
    "k_bnn_reweighted = infer_obj.get_reweighted_bnn_kappa(1000, None)\n",
    "infer_obj.get_calibration_plot(k_bnn_reweighted)"
   ]
  },
  {
   "cell_type": "code",
   "execution_count": null,
   "metadata": {},
   "outputs": [],
   "source": []
  }
 ],
 "metadata": {
  "kernelspec": {
   "display_name": "Python (n2j)",
   "language": "python",
   "name": "n2j"
  },
  "language_info": {
   "codemirror_mode": {
    "name": "ipython",
    "version": 3
   },
   "file_extension": ".py",
   "mimetype": "text/x-python",
   "name": "python",
   "nbconvert_exporter": "python",
   "pygments_lexer": "ipython3",
   "version": "3.8.10"
  }
 },
 "nbformat": 4,
 "nbformat_minor": 2
}
