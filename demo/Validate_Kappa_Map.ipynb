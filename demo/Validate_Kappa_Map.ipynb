{
 "cells": [
  {
   "cell_type": "code",
   "execution_count": null,
   "metadata": {},
   "outputs": [],
   "source": [
    "import os\n",
    "import sys\n",
    "import itertools\n",
    "import copy\n",
    "import glob\n",
    "import numpy as np\n",
    "import pandas as pd\n",
    "import matplotlib.pyplot as plt\n",
    "import matplotlib as mpl\n",
    "from n2j import trainval_data\n",
    "import n2j.trainval_data.utils.raytracing_utils as ru\n",
    "import n2j.trainval_data.utils.halo_utils as hu\n",
    "import n2j.trainval_data.utils.coord_utils as cu\n",
    "import lenstronomy\n",
    "print(lenstronomy.__path__)\n",
    "mpl.rcParams['text.usetex'] = True\n",
    "mpl.rcParams['mathtext.fontset'] = 'stix'\n",
    "mpl.rcParams['font.family'] = 'STIXGeneral'\n",
    "mpl.rcParams['text.latex.preamble'] = r'\\usepackage{amsmath}' #for \\text command\n",
    "mpl.rcParams['axes.labelsize'] = 'x-large'\n",
    "%matplotlib inline\n",
    "%load_ext autoreload\n",
    "%autoreload 2"
   ]
  },
  {
   "cell_type": "code",
   "execution_count": null,
   "metadata": {},
   "outputs": [],
   "source": [
    "out_dir = '../n2j/data/cosmodc2_10450/Y_10450'"
   ]
  },
  {
   "cell_type": "code",
   "execution_count": null,
   "metadata": {},
   "outputs": [],
   "source": [
    "def show_kappa_map(kappa_map, path=None, fov=6.0):\n",
    "    plt.close('all')\n",
    "    fig, ax = plt.subplots(figsize=(10, 10))\n",
    "    #kappa_map = np.load(os.path.join(out_dir, 'kappa_map_sightline={:d}_sample={:d}.npy').format(sightline_i, sample_i))\n",
    "    min_k = np.min(kappa_map)\n",
    "    print(\"Minmax: \", np.min(kappa_map), np.max(kappa_map))\n",
    "    print(np.mean(kappa_map[kappa_map<0.4]))\n",
    "    kappa_map[kappa_map<0] = np.nan\n",
    "    print(\"Number of negative pixels: \", (~np.isfinite(kappa_map)).sum())\n",
    "    \n",
    "    #plt.scatter(0, 0, marker='x', color='k')\n",
    "    #some_halos = halos[halos['eff'] < 0.5]\n",
    "    #plt.scatter(some_halos['ra_diff']*60.0*60.0, some_halos['dec_diff']*60.0*60.0, marker='x', color='white')\n",
    "    #plt.imshow(kappa_map)\n",
    "    cmap = copy.copy(plt.cm.viridis)\n",
    "    cmap.set_bad((1, 0, 0, 1))\n",
    "    im = ax.imshow(kappa_map, vmin=min_k, vmax=0.2, extent=[-fov*60.0*0.5, fov*60.0*0.5, -fov*60.0*0.5, fov*60.0*0.5], origin='lower', cmap=cmap)\n",
    "    ax.set_xticks(np.linspace(-fov*60.0*0.5, fov*60.0*0.5, 10))\n",
    "    ax.set_yticks(np.linspace(-fov*60.0*0.5, fov*60.0*0.5, 10))\n",
    "    #plt.xlabel(r\"'' \")\n",
    "    #plt.ylabel(r\"'' \")\n",
    "    ax.set_xlabel('asec')\n",
    "    ax.set_ylabel('asec')\n",
    "    fig.colorbar(im)"
   ]
  },
  {
   "cell_type": "code",
   "execution_count": null,
   "metadata": {},
   "outputs": [],
   "source": []
  },
  {
   "cell_type": "code",
   "execution_count": null,
   "metadata": {},
   "outputs": [],
   "source": [
    "plt.close('all')\n",
    "fig, ax = plt.subplots(figsize=(10, 10))\n",
    "\n",
    "los_i = 1\n",
    "g1 = np.load(os.path.join(out_dir, 'g1_map_los={0:07d}.npy').format(los_i))\n",
    "g2 = np.load(os.path.join(out_dir, 'g2_map_los={0:07d}.npy').format(los_i))\n",
    "import lenstronomy.Util.param_util as param_util\n",
    "\n",
    "phi, gamma = param_util.shear_cartesian2polar(g1, g2)\n",
    "\n",
    "fov = 1.35\n",
    "#min_k = np.min(kappa_map)\n",
    "#print(\"Minmax: \", np.min(kappa_map), np.max(kappa_map))\n",
    "#print(np.mean(kappa_map[kappa_map<0.4]))\n",
    "#kappa_map[kappa_map<0] = np.nan\n",
    "#print(\"Number of negative pixels: \", (~np.isfinite(kappa_map)).sum())\n",
    "halos_cols = ['ra', 'ra_diff', 'dec', 'dec_diff', 'z', 'dist']\n",
    "halos_cols += ['eff', 'halo_mass', 'stellar_mass', 'Rs', 'alpha_Rs']\n",
    "halos_cols += ['galaxy_id']\n",
    "halos_cols.sort()\n",
    "halos_arr = np.load(glob.glob(os.path.join(out_dir, 'halos_los={0:07d}_id=*.npy'.format(los_i)))[0])\n",
    "halos = pd.DataFrame(halos_arr, columns=halos_cols)\n",
    "plt.scatter(0, 0, marker='x', color='k')\n",
    "#some_halos = halos[halos['eff'] < 0.5]\n",
    "plt.scatter(halos['ra_diff']*60.0*60.0, halos['dec_diff']*60.0*60.0, marker='x', color='white', \n",
    "            s=np.log10(halos['halo_mass'].values)*4)\n",
    "#plt.imshow(kappa_map)\n",
    "cmap = copy.copy(plt.cm.viridis)\n",
    "cmap.set_bad((1, 0, 0, 1))\n",
    "im = ax.imshow(gamma, extent=[-fov*60.0*0.5, fov*60.0*0.5, -fov*60.0*0.5, fov*60.0*0.5], origin='lower', cmap=cmap)\n",
    "ax.set_xticks(np.linspace(-fov*60.0*0.5, fov*60.0*0.5, 10))\n",
    "ax.set_yticks(np.linspace(-fov*60.0*0.5, fov*60.0*0.5, 10))\n",
    "#plt.xlabel(r\"'' \")\n",
    "#plt.ylabel(r\"'' \")\n",
    "ax.set_title(r'$\\gamma_{\\rm ext}$', fontsize=20)\n",
    "ax.set_xlabel('asec')\n",
    "ax.set_ylabel('asec')\n",
    "fig.colorbar(im, )"
   ]
  },
  {
   "cell_type": "code",
   "execution_count": null,
   "metadata": {},
   "outputs": [],
   "source": [
    "plt.close('all')\n",
    "fig, ax = plt.subplots(figsize=(10, 10))\n",
    "\n",
    "los_i = 0\n",
    "g1 = np.load(os.path.join(out_dir, 'g1_map_los={0:07d}.npy').format(los_i))\n",
    "g2 = np.load(os.path.join(out_dir, 'g2_map_los={0:07d}.npy').format(los_i))\n",
    "import lenstronomy.Util.param_util as param_util\n",
    "\n",
    "phi, gamma = param_util.shear_cartesian2polar(g1, g2)\n",
    "\n",
    "fov = 1.35\n",
    "#min_k = np.min(kappa_map)\n",
    "#print(\"Minmax: \", np.min(kappa_map), np.max(kappa_map))\n",
    "#print(np.mean(kappa_map[kappa_map<0.4]))\n",
    "#kappa_map[kappa_map<0] = np.nan\n",
    "#print(\"Number of negative pixels: \", (~np.isfinite(kappa_map)).sum())\n",
    "halos_cols = ['ra', 'ra_diff', 'dec', 'dec_diff', 'z', 'dist']\n",
    "halos_cols += ['eff', 'halo_mass', 'stellar_mass', 'Rs', 'alpha_Rs']\n",
    "halos_cols += ['galaxy_id']\n",
    "halos_cols.sort()\n",
    "halos_arr = np.load(glob.glob(os.path.join(out_dir, 'halos_los={0:07d}_id=*.npy'.format(los_i)))[0])\n",
    "halos = pd.DataFrame(halos_arr, columns=halos_cols)\n",
    "ax.scatter(0, 0, marker='x', color='k')\n",
    "#some_halos = halos[halos['eff'] < 0.5]\n",
    "ax.scatter(halos['ra_diff']*60.0*60.0, halos['dec_diff']*60.0*60.0, marker='x', color='white', \n",
    "            s=np.log10(halos['halo_mass'].values)*4)\n",
    "#plt.imshow(kappa_map)\n",
    "cmap = copy.copy(plt.cm.viridis)\n",
    "cmap.set_bad((1, 0, 0, 1))\n",
    "im = ax.imshow(phi, extent=[-fov*60.0*0.5, fov*60.0*0.5, -fov*60.0*0.5, fov*60.0*0.5], origin='lower', cmap=cmap)\n",
    "ax.set_xticks(np.linspace(-fov*60.0*0.5, fov*60.0*0.5, 10))\n",
    "ax.set_yticks(np.linspace(-fov*60.0*0.5, fov*60.0*0.5, 10))\n",
    "ax.set_title(r'$\\phi_{\\rm ext}$', fontsize=20)\n",
    "#plt.xlabel(r\"'' \")\n",
    "#plt.ylabel(r\"'' \")\n",
    "ax.set_xlabel('asec')\n",
    "ax.set_ylabel('asec')\n",
    "fig.colorbar(im, )"
   ]
  },
  {
   "cell_type": "code",
   "execution_count": null,
   "metadata": {},
   "outputs": [],
   "source": [
    "plt.close('all')\n",
    "fig, ax = plt.subplots(figsize=(10, 10))\n",
    "\n",
    "los_i = 4\n",
    "kappa = np.load(os.path.join(out_dir, 'k_map_los={0:07d}.npy'.format(los_i)))\n",
    "\n",
    "fov = 1.35  # diameter\n",
    "fov_gal = 2.0  # diameter\n",
    "#min_k = np.min(kappa_map)\n",
    "#print(\"Minmax: \", np.min(kappa_map), np.max(kappa_map))\n",
    "#print(np.mean(kappa_map[kappa_map<0.4]))\n",
    "#kappa_map[kappa_map<0] = np.nan\n",
    "#print(\"Number of negative pixels: \", (~np.isfinite(kappa_map)).sum())\n",
    "halos_cols = ['ra', 'ra_diff', 'dec', 'dec_diff', 'z', 'dist']\n",
    "halos_cols += ['eff', 'halo_mass', 'stellar_mass', 'Rs', 'alpha_Rs']\n",
    "halos_cols += ['galaxy_id']\n",
    "halos_cols.sort()\n",
    "halos_arr = np.load(glob.glob(os.path.join(out_dir, 'halos_los={0:07d}_id=*.npy'.format(los_i)))[0])\n",
    "halos = pd.DataFrame(halos_arr, columns=halos_cols)\n",
    "ax.scatter(0, 0, marker='x', color='tab:green')\n",
    "#some_halos = halos[halos['eff'] < 0.5]\n",
    "ax.scatter(halos['ra_diff'].values*60.0, halos['dec_diff'].values*60.0, marker='x', color='white', \n",
    "            s=np.log10(halos['halo_mass'].values)*5)\n",
    "#plt.imshow(kappa_map)\n",
    "cmap = copy.copy(plt.cm.inferno)\n",
    "cmap.set_bad((1, 0, 0, 1))\n",
    "ax.set_facecolor('k')\n",
    "im = ax.imshow(kappa, \n",
    "               extent=[-fov*0.5, fov*0.5, -fov*0.5, fov*0.5], origin='lower', cmap=cmap)\n",
    "\n",
    "# Get galaxy positions to overlay\n",
    "import torch\n",
    "graph_dir = '../n2j/data/cosmodc2_10450/processed'\n",
    "\n",
    "data = torch.load(os.path.join(graph_dir, f'subgraph_{los_i}.pt'))\n",
    "mask = data.x[:, -4] < 26.8\n",
    "ra = data.x[mask, 4]\n",
    "dec = data.x[mask, 5]\n",
    "brightness = 20*10**(0.4*(22.5 - data.x[mask, -4]))\n",
    "ax.scatter(ra*60.0, dec*60.0, marker='*', color='yellow', s=brightness)\n",
    "\n",
    "ax.set_xticks(np.linspace(-fov_gal*0.5, fov_gal*0.5, 10))\n",
    "ax.set_yticks(np.linspace(-fov_gal*0.5, fov_gal*0.5, 10))\n",
    "ax.tick_params(axis='both', which='major', labelsize=14)\n",
    "#plt.xlabel(r\"'' \")\n",
    "#plt.ylabel(r\"'' \")\n",
    "#ax.set_title(r'$\\kappa_{\\rm ext}$', fontsize=20)\n",
    "ax.set_xlabel(r\"$(\\alpha - \\alpha_{\\rm LOS})\\cos(\\delta_{\\rm LOS}) \\quad (\\prime)$\", fontsize=20)\n",
    "ax.set_ylabel(r\"$(\\delta - \\delta_{\\rm LOS}) \\quad (\\prime)$\", fontsize=20)\n",
    "cbar = fig.colorbar(im, fraction=0.046, pad=0.04)\n",
    "cbar.ax.tick_params(labelsize=14)\n",
    "cbar.ax.set_ylabel(r'$\\kappa$', rotation=0, fontsize=20, labelpad=15)\n",
    "fig.savefig('kappa_vs_gals.png', dpi=200, pad_inches=0, bbox_inches='tight')"
   ]
  },
  {
   "cell_type": "code",
   "execution_count": null,
   "metadata": {},
   "outputs": [],
   "source": [
    "plt.close('all')\n",
    "fig, ax = plt.subplots(figsize=(10, 10))\n",
    "\n",
    "los_i = 0\n",
    "kappa = np.load(os.path.join(out_dir, 'k_map_los={0:07d}.npy'.format(los_i)))\n",
    "\n",
    "fov = 1.35  # diameter\n",
    "fov_gal = 2.0  # diameter\n",
    "#min_k = np.min(kappa_map)\n",
    "#print(\"Minmax: \", np.min(kappa_map), np.max(kappa_map))\n",
    "#print(np.mean(kappa_map[kappa_map<0.4]))\n",
    "#kappa_map[kappa_map<0] = np.nan\n",
    "#print(\"Number of negative pixels: \", (~np.isfinite(kappa_map)).sum())\n",
    "halos_cols = ['ra', 'ra_diff', 'dec', 'dec_diff', 'z', 'dist']\n",
    "halos_cols += ['eff', 'halo_mass', 'stellar_mass', 'Rs', 'alpha_Rs']\n",
    "halos_cols += ['galaxy_id']\n",
    "halos_cols.sort()\n",
    "halos_arr = np.load(glob.glob(os.path.join(out_dir, 'halos_los={0:07d}_id=*.npy'.format(los_i)))[0])\n",
    "halos = pd.DataFrame(halos_arr, columns=halos_cols)\n",
    "ax.scatter(0, 0, marker='x', color='tab:green')\n",
    "#some_halos = halos[halos['eff'] < 0.5]\n",
    "ax.scatter(halos['ra_diff']*60.0, halos['dec_diff']*60.0, marker='x', color='white', \n",
    "            s=np.log10(halos['stellar_mass'].values)*5)\n",
    "#plt.imshow(kappa_map)\n",
    "cmap = copy.copy(plt.cm.inferno)\n",
    "cmap.set_bad((1, 0, 0, 1))\n",
    "ax.set_facecolor('k')\n",
    "im = ax.imshow(kappa, \n",
    "               extent=[-fov*0.5, fov*0.5, -fov*0.5, fov*0.5], origin='lower', cmap=cmap)\n",
    "\n",
    "# Get galaxy positions to overlay\n",
    "import torch\n",
    "graph_dir = '../n2j/data/cosmodc2_10450/processed'\n",
    "\n",
    "data = torch.load(os.path.join(graph_dir, f'subgraph_{los_i}.pt'))\n",
    "mask = data.x[:, -4] < 26.8\n",
    "ra = data.x[mask, 4]\n",
    "dec = data.x[mask, 5]\n",
    "brightness = 50*10**(0.4*(22.5 - data.x[mask, -4]))\n",
    "ax.scatter(ra*60.0, dec*60.0, marker='*', color='yellow', s=brightness)\n",
    "\n",
    "ax.set_xticks(np.linspace(-fov_gal*0.5, fov_gal*0.5, 10))\n",
    "ax.set_yticks(np.linspace(-fov_gal*0.5, fov_gal*0.5, 10))\n",
    "ax.tick_params(axis='both', which='major', labelsize=14)\n",
    "#plt.xlabel(r\"'' \")\n",
    "#plt.ylabel(r\"'' \")\n",
    "#ax.set_title(r'$\\kappa_{\\rm ext}$', fontsize=20)\n",
    "ax.set_xlabel(r\"Angular dist $(\\prime)$\", fontsize=20)\n",
    "ax.set_ylabel(r\"Angular dist $(\\prime)$\", fontsize=20)\n",
    "cbar = fig.colorbar(im, fraction=0.046, pad=0.04)\n",
    "cbar.ax.tick_params(labelsize=14)\n",
    "cbar.ax.set_ylabel(r'$\\kappa$', rotation=0, fontsize=20, labelpad=15)\n",
    "fig.savefig('kappa_vs_gals.png', dpi=200, pad_inches=0, bbox_inches='tight')"
   ]
  },
  {
   "cell_type": "code",
   "execution_count": null,
   "metadata": {},
   "outputs": [],
   "source": [
    "i_mag = data.x[mask, -4]\n",
    "halo_mass = data.y_local[mask, 0]\n",
    "stellar_mass = data.y_local[mask, 1]\n",
    "plt.scatter(i_mag, stellar_mass)"
   ]
  },
  {
   "cell_type": "code",
   "execution_count": null,
   "metadata": {},
   "outputs": [],
   "source": [
    "data.x.shape"
   ]
  },
  {
   "cell_type": "code",
   "execution_count": null,
   "metadata": {},
   "outputs": [],
   "source": [
    "# Get pointings\n",
    "pointings_cols = ['kappa', 'gamma1', 'gamma2']\n",
    "pointings_cols += ['galaxy_id', 'ra', 'dec', 'z', 'eps']\n",
    "pointings_cols.sort()\n",
    "pointings_arr = np.load('/home/jwp/stage/sl/n2j/n2j/data/cosmodc2_10326/Y_10326/sightlines.npy')\n",
    "pointings = pd.DataFrame(pointings_arr, columns=pointings_cols)"
   ]
  },
  {
   "cell_type": "code",
   "execution_count": null,
   "metadata": {},
   "outputs": [],
   "source": [
    "import glob"
   ]
  },
  {
   "cell_type": "code",
   "execution_count": null,
   "metadata": {},
   "outputs": [],
   "source": [
    "i = 1\n",
    "halos_cols = ['ra', 'ra_diff', 'dec', 'dec_diff', 'z', 'dist']\n",
    "halos_cols += ['eff', 'halo_mass', 'stellar_mass', 'Rs', 'alpha_Rs']\n",
    "halos_cols += ['galaxy_id']\n",
    "halos_cols.sort()\n",
    "\n",
    "out_dir = '/home/jwp/stage/sl/n2j/n2j/data/cosmodc2_10326/Y_10326'\n",
    "halos_path_fmt = os.path.join(out_dir, 'halos_los={0:07d}_id=*.npy')\n",
    "halos_path = glob.glob(halos_path_fmt.format(i))[0]\n",
    "halos_arr = np.load(halos_path)\n",
    "halos = pd.DataFrame(halos_arr, columns=halos_cols)"
   ]
  },
  {
   "cell_type": "markdown",
   "metadata": {},
   "source": [
    "Let's get the kappa map."
   ]
  },
  {
   "cell_type": "code",
   "execution_count": null,
   "metadata": {},
   "outputs": [],
   "source": [
    "from lenstronomy.LensModel.lens_model import LensModel\n",
    "from astropy.cosmology import WMAP7   # WMAP 7-year cosmology\n",
    "\n",
    "KAPPA_DIFF = 1.0  # arcsec\n",
    "fov = 1.35  # diameter of fov in arcmin\n",
    "\n",
    "sightline = pointings.iloc[i]\n",
    "n_halos = halos.shape[0]\n",
    "# Instantiate multi-plane lens model\n",
    "lens_model = LensModel(lens_model_list=['NFW']*n_halos,\n",
    "                       z_source=sightline['z'],\n",
    "                       lens_redshift_list=halos['z'].values,\n",
    "                       multi_plane=True,\n",
    "                       cosmo=WMAP7,\n",
    "                       observed_convention_index=[])\n",
    "halos['center_x'] = halos['ra_diff']*3600.0  # deg to arcsec\n",
    "halos['center_y'] = halos['dec_diff']*3600.0\n",
    "nfw_kwargs = halos[['Rs', 'alpha_Rs', 'center_x', 'center_y']].to_dict('records')\n",
    "uncalib_kappa = lens_model.kappa(0.0, 0.0, nfw_kwargs,\n",
    "                                 diff=KAPPA_DIFF,\n",
    "                                 diff_method='square')\n",
    "uncalib_gamma1, uncalib_gamma2 = lens_model.gamma(0.0, 0.0, nfw_kwargs,\n",
    "                                                  diff=KAPPA_DIFF,\n",
    "                                                  diff_method='square')\n",
    "# Log the uncalibrated shear/convergence and the weighted sum of halo masses\n",
    "w_mass_sum = np.log10(np.sum(halos['eff'].values*halos['halo_mass'].values))\n",
    "new_row_data = dict(idx=[i],\n",
    "                    kappa=[uncalib_kappa],\n",
    "                    gamma1=[uncalib_gamma1],\n",
    "                    gamma2=[uncalib_gamma2],\n",
    "                    weighted_mass_sum=[w_mass_sum],\n",
    "                    )\n",
    "# Optionally map the uncalibrated shear and convergence on a grid\n",
    "\n",
    "hu.get_kappa_map(lens_model, nfw_kwargs, fov,\n",
    "                 'kappa_map.npy',\n",
    "                 KAPPA_DIFF,\n",
    "                x_grid=np.arange(-fov*0.5, fov*0.5, 0.1/60.0)*60.0,\n",
    "                y_grid=np.arange(-fov*0.5, fov*0.5, 0.1/60.0)*60.0)"
   ]
  },
  {
   "cell_type": "code",
   "execution_count": null,
   "metadata": {},
   "outputs": [],
   "source": [
    "plt.close('all')\n",
    "fig, ax = plt.subplots(figsize=(10, 10))\n",
    "import lenstronomy.Util.param_util as param_util\n",
    "\n",
    "kappa_map = np.load('kappa_map.npy')\n",
    "#min_k = np.min(kappa_map)\n",
    "#print(\"Minmax: \", np.min(kappa_map), np.max(kappa_map))\n",
    "#print(np.mean(kappa_map[kappa_map<0.4]))\n",
    "#kappa_map[kappa_map<0] = np.nan\n",
    "#print(\"Number of negative pixels: \", (~np.isfinite(kappa_map)).sum())\n",
    "ax.scatter(0, 0, marker='x', color='k')\n",
    "#some_halos = halos[halos['eff'] < 0.5]\n",
    "ax.scatter(halos['ra_diff']*60.0*60.0, halos['dec_diff']*60.0*60.0, \n",
    "            marker='x', color='white', s=np.log10(halos['halo_mass'].values)*4)\n",
    "cmap = copy.copy(plt.cm.viridis)\n",
    "cmap.set_bad((1, 0, 0, 1))\n",
    "im = ax.imshow(kappa_map, extent=[-fov*60.0*0.5, fov*60.0*0.5, -fov*60.0*0.5, fov*60.0*0.5], origin='lower', cmap=cmap)\n",
    "\n",
    "\n",
    "\n",
    "\n",
    "ax.scatter(gals['ra_true']*60.0*60.0, halos['dec_true']*60.0*60.0, \n",
    "            marker='o', color='yellow')\n",
    "#im = ax.imshow(phi, extent=[-fov*60.0*0.5, fov*60.0*0.5, -fov*60.0*0.5, fov*60.0*0.5], origin='lower', cmap=cmap)\n",
    "ax.set_xticks(np.linspace(-fov*60.0*0.5, fov*60.0*0.5, 10))\n",
    "ax.set_yticks(np.linspace(-fov*60.0*0.5, fov*60.0*0.5, 10))\n",
    "#plt.xlabel(r\"'' \")\n",
    "#plt.ylabel(r\"'' \")\n",
    "ax.set_xlabel('asec')\n",
    "ax.set_ylabel('asec')\n",
    "fig.colorbar(im)"
   ]
  },
  {
   "cell_type": "code",
   "execution_count": null,
   "metadata": {},
   "outputs": [],
   "source": []
  },
  {
   "cell_type": "code",
   "execution_count": null,
   "metadata": {},
   "outputs": [],
   "source": [
    "np.sum(phi)"
   ]
  },
  {
   "cell_type": "code",
   "execution_count": null,
   "metadata": {},
   "outputs": [],
   "source": [
    "c_200 = ru.get_concentration(new_halos['halo_mass'].values, new_halos['stellar_mass'].values)\n",
    "print(c_200)\n",
    "lens_cosmo = LensCosmo(z_lens=new_halos['z'].values, z_source=los_info['z'], cosmo=WMAP7)\n",
    "Rs_angle, alpha_Rs = lens_cosmo.nfw_physical2angle(M=new_halos['halo_mass'].values, c=c_200)\n",
    "rho0, Rs, c, r200, M200 = lens_cosmo.nfw_angle2physical(Rs_angle=Rs_angle, alpha_Rs=alpha_Rs)\n",
    "print(Rs, alpha_Rs)"
   ]
  },
  {
   "cell_type": "code",
   "execution_count": null,
   "metadata": {
    "scrolled": true
   },
   "outputs": [],
   "source": [
    "los_i = 0\n",
    "sightlines = pd.read_csv(os.path.join(out_dir, 'sightlines.csv'), index_col=None)\n",
    "halos = pd.read_csv(os.path.join(out_dir, 'los_halos_los={:d}.csv'.format(los_i)), index_col=None)\n",
    "\n",
    "plt.scatter(sightlines['ra'], sightlines['dec'], marker='.', color='tab:gray', alpha=0.5)\n",
    "plt.plot(sightlines['ra'][los_i], sightlines['dec'][los_i], marker='x', color='k')\n",
    "plt.scatter(halos['ra'], halos['dec'], marker='<', color='tab:blue', alpha=0.5)\n",
    "plt.xlabel('ra (deg)')\n",
    "plt.ylabel('dec (deg)')"
   ]
  },
  {
   "cell_type": "code",
   "execution_count": null,
   "metadata": {},
   "outputs": [],
   "source": [
    "uncalib = pd.read_csv(os.path.join(out_dir, 'uncalib.csv'), index_col=None)\n",
    "sightlines['final_gamma1'].values, sightlines['gamma1'] + uncalib['gamma1']"
   ]
  },
  {
   "cell_type": "code",
   "execution_count": null,
   "metadata": {},
   "outputs": [],
   "source": [
    "np.max(sightlines['z'].values)"
   ]
  },
  {
   "cell_type": "code",
   "execution_count": null,
   "metadata": {},
   "outputs": [],
   "source": [
    "plt.hist(sightlines['z'], color='tab:gray', bins=20)\n",
    "plt.yscale('log', nonposy='clip')\n",
    "plt.xlabel(r'$z_{\\rm src}$', fontsize=20)\n",
    "plt.ylabel('Count')"
   ]
  },
  {
   "cell_type": "code",
   "execution_count": null,
   "metadata": {},
   "outputs": [],
   "source": [
    "halos = pd.read_csv(os.path.join(out_dir, 'los_halos_los={:d}.csv'.format(los_i)), index_col=None)\n",
    "binning = np.histogram_bin_edges(np.log10(halos['halo_mass']))\n",
    "plt.hist(np.log10(halos['halo_mass']), bins=20)\n",
    "plt.xlabel('log10(halo mass)')\n",
    "plt.ylabel('Count')\n",
    "plt.axvline(10.5, linestyle='--', color='k')\n",
    "plt.axvline(11, linestyle='--', color='k')\n",
    "plt.axvline(11.25, linestyle='--', color='k')\n",
    "plt.axvline(11.5, linestyle='--', color='k')\n",
    "plt.axvline(12, linestyle='--', color='k')"
   ]
  },
  {
   "cell_type": "code",
   "execution_count": null,
   "metadata": {},
   "outputs": [],
   "source": [
    "#plt.scatter(halos['redshift'], halos['baseDC2/target_halo_redshift'], marker='.')\n",
    "#plt.plot(halos['redshift'], halos['redshift'], linestyle='--', color='k')"
   ]
  },
  {
   "cell_type": "code",
   "execution_count": null,
   "metadata": {},
   "outputs": [],
   "source": [
    "#plt.hist(halos['dist'])"
   ]
  },
  {
   "cell_type": "code",
   "execution_count": null,
   "metadata": {},
   "outputs": [],
   "source": [
    "plt.close('all')\n",
    "fov = 0.85 # arcmin\n",
    "plt.scatter(halos['ra_diff']*3600.0, halos['dec_diff']*3600.0, alpha=0.5)\n",
    "#plt.scatter(halos['ra_diff']*3600.0, halos['dec_diff']*3600.0, alpha=0.5)\n",
    "plt.scatter(0, 0, color='k', marker='x')\n",
    "fig = plt.gcf()\n",
    "fig.set_size_inches(5, 5)\n",
    "plt.xticks(np.linspace(-fov*60.0*0.5, fov*60.0*0.5, 10))\n",
    "plt.yticks(np.linspace(-fov*60.0*0.5, fov*60.0*0.5, 10))\n",
    "plt.xlabel('asec')\n",
    "plt.ylabel('asec')"
   ]
  },
  {
   "cell_type": "code",
   "execution_count": null,
   "metadata": {},
   "outputs": [],
   "source": [
    "print(halos.shape)\n",
    "print(halos.columns)\n",
    "print(halos['halo_mass'].nunique())"
   ]
  },
  {
   "cell_type": "code",
   "execution_count": null,
   "metadata": {},
   "outputs": [],
   "source": [
    "c_200 = ru.get_concentration(halos['halo_mass'].values, halos['stellar_mass'].values)"
   ]
  },
  {
   "cell_type": "code",
   "execution_count": null,
   "metadata": {},
   "outputs": [],
   "source": [
    "def plot_c_vs_M(lower, upper, df, marker, color):\n",
    "    binning = np.logical_and(df['z'] < upper,\n",
    "                             df['z'] > lower)\n",
    "    plt.scatter(halos.loc[binning, 'halo_mass'].values/halos.loc[binning, 'stellar_mass'].values, c_200[binning], marker=marker, color=color, alpha=0.5)"
   ]
  },
  {
   "cell_type": "code",
   "execution_count": null,
   "metadata": {},
   "outputs": [],
   "source": [
    "plt.hist(np.log10(halos['halo_mass']), bins=50)\n",
    "plt.xlabel('log10(halo mass/solar mass)')"
   ]
  },
  {
   "cell_type": "code",
   "execution_count": null,
   "metadata": {},
   "outputs": [],
   "source": [
    "plt.hist(halos['dist'].values, bins=50)\n",
    "plt.xlabel('log10(halo mass/solar mass)')"
   ]
  },
  {
   "cell_type": "code",
   "execution_count": null,
   "metadata": {},
   "outputs": [],
   "source": [
    "plt.close('all')\n",
    "plot_c_vs_M(0, 0.5, halos, '.', 'k')\n",
    "plot_c_vs_M(0.5, 1.5, halos, '<', 'tab:orange')\n",
    "plot_c_vs_M(1.5, 2.5, halos, 'x', 'tab:olive')\n",
    "plot_c_vs_M(2.5, 3.5, halos, '<', 'tab:blue')\n",
    "plt.xscale('log')\n",
    "plt.xlabel(r'$M/M_\\star$')\n",
    "plt.ylabel(r'$c$')\n",
    "plt.ylim([2, 7])"
   ]
  },
  {
   "cell_type": "code",
   "execution_count": null,
   "metadata": {},
   "outputs": [],
   "source": [
    "plt.hist(c_200)"
   ]
  },
  {
   "cell_type": "code",
   "execution_count": null,
   "metadata": {},
   "outputs": [],
   "source": [
    "\n",
    "#plt.savefig('kappa_map.pdf')\n"
   ]
  },
  {
   "cell_type": "code",
   "execution_count": null,
   "metadata": {},
   "outputs": [],
   "source": [
    "halos.shape"
   ]
  },
  {
   "cell_type": "code",
   "execution_count": null,
   "metadata": {},
   "outputs": [],
   "source": [
    "high_m = halos[halos['halo_mass']>10.0**13].reset_index()\n",
    "high_m.iloc[high_m['dist'].idxmin()]"
   ]
  },
  {
   "cell_type": "code",
   "execution_count": null,
   "metadata": {},
   "outputs": [],
   "source": [
    "_ = plt.hist(kappa_map.flatten(), bins=100, range=[-0.03, 2], log=True)\n",
    "plt.axvline(np.mean(kappa_map[kappa_map<0.4]), color='r')\n",
    "print(np.mean(kappa_map[kappa_map<0.4]))"
   ]
  },
  {
   "cell_type": "code",
   "execution_count": null,
   "metadata": {},
   "outputs": [],
   "source": [
    "kappa_samples = np.load('{:s}/kappa_samples_sightline={:d}.npy'.format(out_dir, sightline_i))\n",
    "_ = plt.hist(kappa_samples, bins=100, range=[-0.03, 0.1], log=True)\n",
    "plt.axvline(np.mean(kappa_samples[kappa_samples<0.4]), color='r')\n",
    "print(np.mean(kappa_samples[kappa_samples<0.4]))"
   ]
  },
  {
   "cell_type": "code",
   "execution_count": null,
   "metadata": {},
   "outputs": [],
   "source": [
    "plt.hist(halos['dec'])"
   ]
  },
  {
   "cell_type": "code",
   "execution_count": null,
   "metadata": {},
   "outputs": [],
   "source": [
    "r, d = cu.sample_in_aperture(10000, 3.0/60.0)"
   ]
  },
  {
   "cell_type": "code",
   "execution_count": null,
   "metadata": {},
   "outputs": [],
   "source": [
    "plt.hist((r**2.0 + d**2.0)) # R^2 ~ U(0, Rmax^2)"
   ]
  },
  {
   "cell_type": "code",
   "execution_count": null,
   "metadata": {},
   "outputs": [],
   "source": [
    "plt.hist(np.arctan(d/r))"
   ]
  },
  {
   "cell_type": "code",
   "execution_count": null,
   "metadata": {},
   "outputs": [],
   "source": [
    "plt.hist(d)"
   ]
  },
  {
   "cell_type": "code",
   "execution_count": null,
   "metadata": {},
   "outputs": [],
   "source": [
    "plt.close('all')\n",
    "fov = 6.0\n",
    "\n",
    "sightline_i = 0\n",
    "\n",
    "g1_map = np.load(os.path.join(out_dir, 'gamma1_map_sightline={:d}.npy'.format(sightline_i)))\n",
    "\n",
    "min_k = np.min(g1_map)\n",
    "print(np.min(g1_map), np.max(g1_map))\n",
    "print(g1_map.shape)\n",
    "print(np.median(g1_map.flatten()))\n",
    "#plt.scatter(0, 0, marker='x', color='k')\n",
    "#plt.scatter(halos['ra_diff']*60.0*60.0, halos['dec_diff']*60.0*60.0, marker='x', color='k')\n",
    "#plt.imshow(kappa_map)\n",
    "plt.imshow(g1_map, vmin=min_k, extent=[-fov*60.0*0.5, fov*60.0*0.5, -fov*60.0*0.5, fov*60.0*0.5], origin='lower')\n",
    "plt.xticks(np.linspace(-fov*60.0*0.5, fov*60.0*0.5, 10))\n",
    "plt.yticks(np.linspace(-fov*60.0*0.5, fov*60.0*0.5, 10))\n",
    "#plt.xlabel(r\"'' \")\n",
    "#plt.ylabel(r\"'' \")\n",
    "plt.xlabel('asec')\n",
    "plt.ylabel('asec')\n",
    "plt.colorbar()\n",
    "#plt.savefig('kappa_map.pdf')\n"
   ]
  },
  {
   "cell_type": "code",
   "execution_count": null,
   "metadata": {},
   "outputs": [],
   "source": []
  },
  {
   "cell_type": "code",
   "execution_count": null,
   "metadata": {},
   "outputs": [],
   "source": [
    "k = np.load('../los_test/kappa_samples_sightline={:d}.npy'.format(los_i))\n",
    "min_k = np.min(k[~is_outlier(k)])\n",
    "max_k = np.max(k[~is_outlier(k)])\n",
    "print(min_k, max_k)\n",
    "binning = np.histogram_bin_edges(k, range=[min_k, max_k], bins='scott')\n",
    "plt.hist(k, bins=binning)\n",
    "plt.ylabel('Count')\n",
    "plt.xlabel(r'$\\kappa_{\\rm ext}$', fontsize=20)"
   ]
  },
  {
   "cell_type": "code",
   "execution_count": null,
   "metadata": {},
   "outputs": [],
   "source": [
    "plt.scatter(raw_kappas, wl_kappas)"
   ]
  },
  {
   "cell_type": "code",
   "execution_count": null,
   "metadata": {},
   "outputs": [],
   "source": [
    "sightlines = pd.read_csv(os.path.join(out_dir, 'sightlines.csv'), index_col=None)\n",
    "idx = 1\n",
    "sightline = sightlines.iloc[idx]\n",
    "print(sightline)\n",
    "ru.raytrace_single_sightline(idx, 10450, sightline['ra'], sightline['dec'],\n",
    "                              sightline['z'],\n",
    "                             6.0, \n",
    "                              True, True,\n",
    "                              5, 11.0, out_dir,\n",
    "                              test=False)"
   ]
  },
  {
   "cell_type": "code",
   "execution_count": null,
   "metadata": {},
   "outputs": [],
   "source": [
    "\n",
    "df = pd.DataFrame(columns=['idx', 'kappa', 'gamma1', 'gamma2'])\n",
    "df.to_csv('test.csv', index=None)\n",
    "\n",
    "uncalib_kappa = -1\n",
    "uncalib_gamma1 = 0\n",
    "uncalib_gamma2 = 1\n",
    "idx = 99\n",
    "\n",
    "new_data = {'idx': [idx], 'kappa': [uncalib_kappa], 'gamma1': [uncalib_gamma1], 'gamma2': [uncalib_gamma2]}\n",
    "new_df = pd.DataFrame(new_data)\n",
    "#new_data = {'idx': idx, 'kappa': uncalib_kappa, 'gamma1': uncalib_gamma1, 'gamma2': uncalib_gamma2}\n",
    "#new_df = pd.Series(new_data)\n",
    "new_df.to_csv('test.csv', index=None, mode='a', header=None)"
   ]
  },
  {
   "cell_type": "code",
   "execution_count": null,
   "metadata": {},
   "outputs": [],
   "source": [
    "new_data = {'idx': [idx], 'kappa': [uncalib_kappa], 'gamma1': [uncalib_gamma1], 'gamma2': [uncalib_gamma2]}\n",
    "new_df = pd.DataFrame(new_data)\n",
    "#new_data = {'idx': idx, 'kappa': uncalib_kappa, 'gamma1': uncalib_gamma1, 'gamma2': uncalib_gamma2}\n",
    "#new_df = pd.Series(new_data)\n",
    "new_df.to_csv('test.csv', index=None, mode='a', header=None)"
   ]
  },
  {
   "cell_type": "code",
   "execution_count": null,
   "metadata": {},
   "outputs": [],
   "source": [
    "uncalib_kappas = pd.read_csv('test.csv', index_col=None)\n",
    "uncalib_kappas\n"
   ]
  },
  {
   "cell_type": "code",
   "execution_count": null,
   "metadata": {},
   "outputs": [],
   "source": [
    "uncalib_kappas.drop_duplicates('idx', inplace=True)"
   ]
  },
  {
   "cell_type": "code",
   "execution_count": null,
   "metadata": {},
   "outputs": [],
   "source": [
    "uncalib_kappas"
   ]
  },
  {
   "cell_type": "code",
   "execution_count": null,
   "metadata": {},
   "outputs": [],
   "source": [
    "import healpy as hp\n",
    "hp.nside2resol(4096, arcmin=True)"
   ]
  },
  {
   "cell_type": "code",
   "execution_count": null,
   "metadata": {
    "scrolled": false
   },
   "outputs": [],
   "source": [
    "sightlines = pd.read_csv(os.path.join(out_dir, 'sightlines.csv'), index_col=None)\n",
    "\n",
    "uncalib_kappas = pd.read_csv(os.path.join(out_dir, 'uncalib.csv'), index_col=None)\n",
    "uncalib_kappas.columns = ['idx', 'kappa', 'gamma1', 'gamma2']\n",
    "print(uncalib_kappas.shape)\n",
    "print(uncalib_kappas.loc[uncalib_kappas['idx'] == 0, 'kappa'].sample(1).item())\n",
    "n_sightlines = 1000\n",
    "mean_kappas = np.empty(n_sightlines)\n",
    "median_kappas = np.empty(n_sightlines)\n",
    "final_kappas = np.empty(n_sightlines) # [los, samples]\n",
    "raw_kappas = np.empty(n_sightlines)\n",
    "samples = []\n",
    "for s in range(n_sightlines): # loop over sightlines\n",
    "    #kappa_map = np.load('../sprint_week/kappa_map_sightline={:d}.npy'.format(s))\n",
    "    #print(np.mean(kappa_map.flatten()))\n",
    "    wl_kappa = sightlines.loc[s, 'kappa']\n",
    "    k = np.load(os.path.join(out_dir, 'k_samples_los={:d}.npy'.format(s)))\n",
    "    samples.append(k)\n",
    "    k = k[k < 0.5]\n",
    "    mean_kappas[s] = np.mean(k)\n",
    "    median_kappas[s] = np.median(k)\n",
    "    uncalib_kappa = uncalib_kappas.loc[uncalib_kappas['idx'] == s, 'kappa'].sample(1).item()\n",
    "    raw_kappas[s] = uncalib_kappa\n",
    "    final_kappas[s] = uncalib_kappa + wl_kappa - np.mean(k)"
   ]
  },
  {
   "cell_type": "code",
   "execution_count": null,
   "metadata": {},
   "outputs": [],
   "source": [
    "_ = plt.hist(raw_kappas - mean_kappas, bins=40, histtype='step',  color='tab:gray', edgecolor='tab:red', linestyle='-', fill=True, linewidth=2, label=r'uncalibrated $\\kappa_{\\rm ext}$ - mean(realizations)')\n",
    "\n",
    "plt.legend(fontsize=15)\n",
    "plt.ylabel('Count (sightlines)')\n",
    "plt.xlabel(r'$\\kappa_{\\rm ext}$', fontsize=20)"
   ]
  },
  {
   "cell_type": "code",
   "execution_count": null,
   "metadata": {},
   "outputs": [],
   "source": [
    "resampled = samples[4]\n",
    "resampled = resampled[resampled < 0.4]\n",
    "plt.hist(resampled, bins=100, range=[-0.005, 0.4],)\n",
    "plt.xlabel('Resampled kappas for a sightline')\n",
    "plt.axvline(np.mean(resampled),  linestyle='--', color='k', label='Average, with a kappa cut at 0.4')\n",
    "print(np.mean(resampled))\n",
    "plt.legend(fontsize=15)"
   ]
  },
  {
   "cell_type": "code",
   "execution_count": null,
   "metadata": {},
   "outputs": [],
   "source": [
    "for n in [100, 200, 400, 800, 1000]:\n",
    "    random_i = np.random.randint(0, 1000, size=n)\n",
    "    print(np.array(samples[0])[random_i].mean())"
   ]
  },
  {
   "cell_type": "code",
   "execution_count": null,
   "metadata": {},
   "outputs": [],
   "source": [
    "_ = plt.hist(mean_kappas, bins=20, histtype='step',  label='mean(realizations)', color='tab:gray', linestyle='-', linewidth=2)\n",
    "_ = plt.hist(median_kappas, bins=20, histtype='step',  label='median(realizations)', color='tab:gray', linestyle='--')\n",
    "plt.legend(fontsize=20)\n",
    "plt.ylabel('Count (sightlines)')\n",
    "plt.xlabel(r'$\\kappa_{\\rm ext}$', fontsize=20)"
   ]
  },
  {
   "cell_type": "code",
   "execution_count": null,
   "metadata": {},
   "outputs": [],
   "source": [
    "_ = plt.hist(raw_kappas, bins=50, histtype='step', color='tab:red', range=[0., max(raw_kappas)], linestyle='-', linewidth=2, label=r'uncalibrated $\\kappa_{\\rm ext}$')\n",
    "\n",
    "plt.legend(fontsize=20)\n",
    "plt.ylabel('Count (sightlines)')\n",
    "plt.xlabel(r'$\\kappa_{\\rm ext}$', fontsize=20)"
   ]
  },
  {
   "cell_type": "code",
   "execution_count": null,
   "metadata": {
    "scrolled": true,
    "slideshow": {
     "slide_type": "slide"
    }
   },
   "outputs": [],
   "source": [
    "#central_final_kappas = np.mean(final_kappas, axis=1)\n",
    "binning = np.histogram_bin_edges(final_kappas,  bins='scott')\n",
    "print(final_kappas.shape, )\n",
    "_ = plt.hist(final_kappas, bins=20, alpha=1.0, label=\"1'' (enhanced)\",  histtype='step', linewidth=2, density=True)\n",
    "wl_kappas = sightlines['kappa'].values[:n_sightlines]\n",
    "binning = np.histogram_bin_edges(wl_kappas,  bins='scott')\n",
    "_ = plt.hist(wl_kappas, bins=20, alpha=1.0, label=\"51'' (cosmoDC2)\", histtype='step', hatch='//', density=True)\n",
    "\n",
    "\n",
    "plt.plot([], [], linestyle='-', color='k', label='Greene+ 2013, all LOS')\n",
    "plt.legend(fontsize=12, frameon=False)\n",
    "plt.ylabel('Density')\n",
    "plt.xlabel(r'$\\kappa_{\\rm ext}$', fontsize=20)"
   ]
  },
  {
   "cell_type": "code",
   "execution_count": null,
   "metadata": {},
   "outputs": [],
   "source": [
    "import n2j.trainval_data.raytracing_utils as gen_ru\n",
    "\n",
    "fit_model = gen_ru.fit_gp(weighted_mass_sum, mean_kappas)\n",
    "approx_mean_kappa()"
   ]
  },
  {
   "cell_type": "code",
   "execution_count": null,
   "metadata": {},
   "outputs": [],
   "source": [
    "unnormed_N = np.empty(n_sightlines)\n",
    "unnormed_mass_sum = np.empty(n_sightlines)\n",
    "weighted_mass_sum = np.empty(n_sightlines)\n",
    "unnormed_dist_weighted_N = np.empty(n_sightlines)\n",
    "for s in range(n_sightlines): # loop over sightlines\n",
    "    halos_s = pd.read_csv(os.path.join(out_dir, 'los_halos_los={:d}.csv'.format(s)), index_col=None)\n",
    "    #_, _, eff = ru.get_nfw_kwargs(halos_s['halo_mass'].values, halos_s['stellar_mass'].values, \n",
    "    #              halos_s['z'].values, sightlines.iloc[los_i]['z'])\n",
    "    #halos_s['eff'] = eff\n",
    "    unnormed_N[s] = halos_s.shape[0]\n",
    "    unnormed_mass_sum[s] = halos_s['halo_mass'].sum()\n",
    "    weighted_mass_sum[s] = np.sum(halos_s['halo_mass'].values*halos_s['eff'].values)\n",
    "    unnormed_dist_weighted_N[s] = np.sum(1.0/halos_s['dist'].values)\n",
    "    #print(np.sum(1.0/halos_s['dist'].values))\n",
    "normed_N = unnormed_N/np.mean(unnormed_N)\n",
    "normed_dist_weighted_N = unnormed_dist_weighted_N/np.mean(unnormed_dist_weighted_N)"
   ]
  },
  {
   "cell_type": "code",
   "execution_count": null,
   "metadata": {},
   "outputs": [],
   "source": [
    "np.argmax(unnormed_mass_sum), unnormed_mass_sum[2]"
   ]
  },
  {
   "cell_type": "code",
   "execution_count": null,
   "metadata": {},
   "outputs": [],
   "source": [
    "plt.scatter(unnormed_N, np.log10(unnormed_mass_sum))\n",
    "plt.ylabel('log10(sum of halo masses/solar mass)')\n",
    "plt.xlabel('Total number of halos')"
   ]
  },
  {
   "cell_type": "code",
   "execution_count": null,
   "metadata": {},
   "outputs": [],
   "source": [
    "plt.scatter(sightlines['kappa'].values[:n_sightlines], raw_kappas)\n",
    "plt.ylabel('Raw kappa')\n",
    "plt.xlabel('WL kappa')"
   ]
  },
  {
   "cell_type": "code",
   "execution_count": null,
   "metadata": {},
   "outputs": [],
   "source": [
    "plt.scatter(sightlines['wl_kappa'].values[:n_sightlines], final_kappas, alpha=0.5)\n",
    "plt.plot(final_kappas, final_kappas, linestyle='--', color='k')\n",
    "plt.ylabel('Structure-enhanced kappa')\n",
    "plt.xlabel('cosmoDC2 kappa')"
   ]
  },
  {
   "cell_type": "code",
   "execution_count": null,
   "metadata": {},
   "outputs": [],
   "source": [
    "np.argmax(sightlines['wl_kappa'].values)"
   ]
  },
  {
   "cell_type": "code",
   "execution_count": null,
   "metadata": {},
   "outputs": [],
   "source": [
    "print(raw_kappas.mean(), mean_kappas.mean())"
   ]
  },
  {
   "cell_type": "code",
   "execution_count": null,
   "metadata": {},
   "outputs": [],
   "source": [
    "plt.scatter(raw_kappas, mean_kappas, alpha=0.5, color='tab:orange')\n",
    "los_i = 4\n",
    "#plt.scatter(raw_kappas[los_i], mean_kappas[los_i], alpha=0.5, color='tab:red')\n",
    "plt.plot(raw_kappas, raw_kappas, linestyle='--', color='k')\n",
    "#plt.xlim([min(raw_kappas), 0.01])#max(raw_kappas)])\n",
    "plt.ylim([min(raw_kappas), max(raw_kappas)])\n",
    "plt.ylabel('Mean(resampled kappa)')\n",
    "plt.xlabel('Uncalibrated kappa')"
   ]
  },
  {
   "cell_type": "code",
   "execution_count": null,
   "metadata": {},
   "outputs": [],
   "source": [
    "plt.hist(np.log10(unnormed_mass_sum))"
   ]
  },
  {
   "cell_type": "code",
   "execution_count": null,
   "metadata": {},
   "outputs": [],
   "source": [
    "plt.scatter(np.log10(weighted_mass_sum), mean_kappas)\n",
    "plt.ylabel('Mean(kappa) from reshuffling halos')\n",
    "plt.xlabel('Weighted sum of halo masses')"
   ]
  },
  {
   "cell_type": "code",
   "execution_count": null,
   "metadata": {},
   "outputs": [],
   "source": [
    "plt.scatter(weighted_mass_sum, mean_kappas)\n",
    "plt.ylabel('Mean(kappa) from reshuffling halos')\n",
    "plt.xlabel('Weighted sum of halo masses')"
   ]
  },
  {
   "cell_type": "code",
   "execution_count": null,
   "metadata": {},
   "outputs": [],
   "source": [
    "plt.scatter(np.log10(unnormed_mass_sum), mean_kappas, alpha=0.5)\n",
    "#plt.xlim([15, 15.4])\n",
    "#plt.ylim([0.001, 0.005])\n",
    "plt.xlabel('log10(sum of halo masses/solar mass)')\n",
    "plt.ylabel('Mean(resampled kappa)')"
   ]
  },
  {
   "cell_type": "code",
   "execution_count": null,
   "metadata": {},
   "outputs": [],
   "source": [
    "plt.scatter(np.log10(weighted_mass_sum), raw_kappas, alpha=0.5, marker='.', label='uncalib')\n",
    "plt.scatter(np.log10(weighted_mass_sum), final_kappas, alpha=0.5, marker='.', label='calib', color='k')\n",
    "\n",
    "plt.scatter(np.log10(weighted_mass_sum), sightlines['wl_kappa'].values[:n_sightlines], alpha=0.5, marker='.', label='WL')\n",
    "plt.scatter(np.log10(weighted_mass_sum), mean_kappas, marker='o', alpha=0.5, label='mean')\n",
    "#plt.xlim([15, 15.4])\n",
    "#plt.ylim([0.0005, 0.003])\n",
    "plt.xlabel('log10(weighted sum of halo masses/solar mass)')\n",
    "plt.ylabel('kappa')\n",
    "plt.legend()"
   ]
  },
  {
   "cell_type": "code",
   "execution_count": null,
   "metadata": {},
   "outputs": [],
   "source": [
    "plt.hist(unnormed_N)\n",
    "print(np.min(unnormed_N), np.max(unnormed_N))"
   ]
  },
  {
   "cell_type": "code",
   "execution_count": null,
   "metadata": {},
   "outputs": [],
   "source": [
    "plt.hist(np.log10(unnormed_mass))"
   ]
  },
  {
   "cell_type": "code",
   "execution_count": null,
   "metadata": {},
   "outputs": [],
   "source": [
    "unnormed_dist_weighted_N[unnormed_dist_weighted_N>100000].shape"
   ]
  },
  {
   "cell_type": "code",
   "execution_count": null,
   "metadata": {},
   "outputs": [],
   "source": [
    "from scipy.stats import pearsonr\n",
    "from scipy.stats import spearmanr\n",
    "\n",
    "plt.scatter(unnormed_N, final_kappas, alpha=0.5)\n",
    "plt.xlabel('Number count (unnormed)')\n",
    "plt.ylabel(r'Finetuned $\\kappa_{\\rm ext}$', fontsize=20)\n",
    "corr, _ = pearsonr(unnormed_N, final_kappas)\n",
    "print('Pearsons correlation: %.3f' % corr)\n",
    "corr, _ = spearmanr(unnormed_N, final_kappas)\n",
    "print('Spearmans correlation: %.3f' % corr)"
   ]
  },
  {
   "cell_type": "code",
   "execution_count": null,
   "metadata": {},
   "outputs": [],
   "source": [
    "\n",
    "#exclude = False\n",
    "plt.scatter(unnormed_dist_weighted_N, final_kappas, alpha=0.5)\n",
    "\n",
    "plt.xlabel('Dist-weighted number count (unnormed)')\n",
    "plt.ylabel(r'Finetuned $\\kappa_{\\rm ext}$', fontsize=20)\n",
    "corr, _ = pearsonr(unnormed_dist_weighted_N, final_kappas)\n",
    "print('Pearsons correlation: %.3f' % corr)\n",
    "corr, _ = spearmanr(unnormed_dist_weighted_N, final_kappas)\n",
    "print('Spearmans correlation: %.3f' % corr)"
   ]
  },
  {
   "cell_type": "code",
   "execution_count": null,
   "metadata": {},
   "outputs": [],
   "source": [
    "wl_kappa = sightlines['wl_kappa'].values[:n_sightlines]\n",
    "\n",
    "plt.scatter(unnormed_N, wl_kappa, alpha=0.5)\n",
    "plt.xlabel('Number count (unnormed)')\n",
    "plt.ylabel(r'WL $\\kappa_{\\rm ext}$', fontsize=20)\n",
    "corr, _ = pearsonr(unnormed_N, wl_kappa)\n",
    "print('Pearsons correlation: %.3f' % corr)\n",
    "corr, _ = spearmanr(unnormed_N, wl_kappa)\n",
    "print('Spearmans correlation: %.3f' % corr)"
   ]
  },
  {
   "cell_type": "code",
   "execution_count": null,
   "metadata": {},
   "outputs": [],
   "source": [
    "\n",
    "plt.scatter(unnormed_dist_weighted_N, wl_kappa, alpha=0.5)\n",
    "\n",
    "plt.xlabel('Dist-weighted number count (unnormed)')\n",
    "plt.ylabel(r'WL $\\kappa_{\\rm ext}$', fontsize=20)\n",
    "corr, _ = pearsonr(unnormed_dist_weighted_N, wl_kappa)\n",
    "print('Pearsons correlation: %.3f' % corr)\n",
    "corr, _ = spearmanr(unnormed_dist_weighted_N, wl_kappa)\n",
    "print('Spearmans correlation: %.3f' % corr)"
   ]
  },
  {
   "cell_type": "code",
   "execution_count": null,
   "metadata": {},
   "outputs": [],
   "source": []
  },
  {
   "cell_type": "code",
   "execution_count": null,
   "metadata": {},
   "outputs": [],
   "source": [
    "sightlines.columns"
   ]
  },
  {
   "cell_type": "code",
   "execution_count": null,
   "metadata": {},
   "outputs": [],
   "source": [
    "k = np.load(os.path.join('../multi_sprint', 'kappa_samples_sightline={:d}.npy'.format(0)))\n",
    "plt.hist(k)"
   ]
  },
  {
   "cell_type": "code",
   "execution_count": null,
   "metadata": {},
   "outputs": [],
   "source": [
    "dir_mass_cut_aperture_size = [('../multi_sprint_3', (10.5), 6.0), \n",
    "                              ('../multi_sprint', 11, 6.0), \n",
    "                              ('../multi_sprint_4', 11.25, 6.0), \n",
    "                              ('../multi_sprint_1', 11.5, 6.0), \n",
    "                              ('../multi_sprint_2', 12, 6.0)]\n",
    "dir_mass_cut_aperture_size += [('../m0', 10.5, 4.0),\n",
    "                              ('../m1', 11.0, 4.0),\n",
    "                              ('../m2', 11.25, 4.0),\n",
    "                              ('../m3', 11.5, 4.0),\n",
    "                              ('../m4', 12.0, 4.0)]\n",
    "plt.close('all')\n",
    "mass_cuts = []\n",
    "mean_kappas = []\n",
    "median_kappas = []\n",
    "kappas = np.empty((len(dir_mass_cut_aperture_size), 1000))\n",
    "for i, (folder, mass_cut, aperture) in enumerate(dir_mass_cut_aperture_size):\n",
    "    k = np.load(os.path.join(folder, 'kappa_samples_sightline={:d}.npy'.format(0)))\n",
    "    print(k.shape)\n",
    "    #k = k[~is_outlier(k)]\n",
    "    mean_kappas.append(np.mean(k))\n",
    "    median_kappas.append(np.median(k))\n",
    "    mass_cuts.append(mass_cut)\n",
    "    kappas[i, :] = k\n",
    "    #binning = np.histogram_bin_edges(k, bins='scott', )\n",
    "    "
   ]
  },
  {
   "cell_type": "code",
   "execution_count": null,
   "metadata": {},
   "outputs": [],
   "source": [
    "plt.close('all')\n",
    "for i, (folder, mass_cut, aperture) in enumerate(dir_mass_cut_aperture_size[:]):\n",
    "    fill = False\n",
    "    if mass_cut > 11.25:\n",
    "        continue\n",
    "    if i == 3:\n",
    "        fill = True\n",
    "    #binning = np.histogram_bin_edges(kappas[i, :], bins='scott', range=[0, 0.06])\n",
    "    if aperture == 4:\n",
    "        _ = plt.hist(kappas[i, :], label=\"aperture {:.1f} amin, mass cut {:.1f}\".format(aperture*0.5, mass_cut), bins=40, range=[0, 0.04], histtype='step', fill=fill, density=True, hatch='//')\n",
    "    else:\n",
    "        _ = plt.hist(kappas[i, :], label=\"aperture {:.1f} amin, mass cut {:.1f}\".format(aperture*0.5, mass_cut), bins=40, range=[0, 0.04], histtype='step', fill=fill, density=True)\n",
    "plt.legend(fontsize=20)\n",
    "plt.xlabel(r'$\\kappa_{\\rm ext}$', fontsize=20)\n",
    "plt.ylabel('Count')\n",
    "fig = plt.gcf()\n",
    "fig.set_size_inches(12, 6)"
   ]
  },
  {
   "cell_type": "code",
   "execution_count": null,
   "metadata": {},
   "outputs": [],
   "source": [
    "for i, (folder, mass_cut, aperture) in enumerate(dir_mass_cut_aperture_size[:]):\n",
    "    if aperture == 4:\n",
    "        plt.scatter(mass_cuts[i], mean_kappas[i], color='tab:orange', label='aperture 2.0 amin')\n",
    "    else:\n",
    "        plt.scatter(mass_cuts[i], mean_kappas[i], color='tab:blue', label='aperture 3.0 amin')\n",
    "plt.axhline(0, color='k', linestyle='--')\n",
    "plt.xlabel('log10(halo mass cut)')\n",
    "plt.ylabel('mean kappa')"
   ]
  },
  {
   "cell_type": "code",
   "execution_count": null,
   "metadata": {},
   "outputs": [],
   "source": [
    "for i, (folder, mass_cut, aperture) in enumerate(dir_mass_cut_aperture_size[:]):\n",
    "    if aperture == 4:\n",
    "        plt.scatter(mass_cuts[i], median_kappas[i], color='tab:orange', label='aperture 2.0 amin')\n",
    "    else:\n",
    "        plt.scatter(mass_cuts[i], median_kappas[i], color='tab:blue', label='aperture 3.0 amin')\n",
    "plt.axhline(0, color='k', linestyle='--')\n",
    "plt.xlabel('log10(halo mass cut)')\n",
    "plt.ylabel('median kappa')"
   ]
  },
  {
   "cell_type": "code",
   "execution_count": null,
   "metadata": {},
   "outputs": [],
   "source": [
    "kappas"
   ]
  },
  {
   "cell_type": "code",
   "execution_count": null,
   "metadata": {},
   "outputs": [],
   "source": []
  }
 ],
 "metadata": {
  "kernelspec": {
   "display_name": "Python (n2j)",
   "language": "python",
   "name": "n2j"
  },
  "language_info": {
   "codemirror_mode": {
    "name": "ipython",
    "version": 3
   },
   "file_extension": ".py",
   "mimetype": "text/x-python",
   "name": "python",
   "nbconvert_exporter": "python",
   "pygments_lexer": "ipython3",
   "version": "3.8.11"
  }
 },
 "nbformat": 4,
 "nbformat_minor": 2
}
