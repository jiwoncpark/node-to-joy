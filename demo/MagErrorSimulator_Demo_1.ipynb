{
 "cells": [
  {
   "cell_type": "markdown",
   "id": "de7798ce-9813-4f7a-b37e-03ece3738c19",
   "metadata": {},
   "source": [
    "# MagErrorSimulator() Demo (1)\n",
    "\n",
    "__Author:__ Madison Ueland (@mueland)\n",
    "\n",
    "__Created:__ 8/03/2021\n",
    "\n",
    "__Last run:__ 8/03/2021\n",
    "\n",
    "__Goals:__\n",
    "Load and save GCRCatalogs data, for use in __MagErrorSimulator() Demo (2)__.\n",
    "\n",
    "__Dependencies:__\n",
    "Run on NERSC with desc kernel. "
   ]
  },
  {
   "cell_type": "code",
   "execution_count": 12,
   "id": "4327d07e-382c-4478-b929-fc7d64607bd9",
   "metadata": {},
   "outputs": [],
   "source": [
    "import GCRCatalogs\n",
    "import pandas as pd"
   ]
  },
  {
   "cell_type": "code",
   "execution_count": 16,
   "id": "5f094a57-a1ba-43c6-8ba9-29acc34eca96",
   "metadata": {},
   "outputs": [
    {
     "name": "stdout",
     "output_type": "stream",
     "text": [
      "/global/u1/u/ueland\n"
     ]
    }
   ],
   "source": [
    "import os \n",
    "print(os.getcwd())"
   ]
  },
  {
   "cell_type": "markdown",
   "id": "fede32d9-d528-41fd-a4fd-8cf030a587f8",
   "metadata": {},
   "source": [
    "## Loading GCR Catalog\n",
    "We load the DC2 object catalog corresponding to Data Release 6 (Run 2.2i) i.e. 5 year depth."
   ]
  },
  {
   "cell_type": "code",
   "execution_count": 13,
   "id": "c4b095df-e781-4993-af37-c193eb9c79f7",
   "metadata": {},
   "outputs": [],
   "source": [
    "# see all available catalogs\n",
    "# print(GCRCatalogs.get_available_catalogs(names_only=True))\n",
    "\n",
    "# load a catalog with runtime custom options\n",
    "# (one needs to check catalog configs to know the keywords)\n",
    "catalog = GCRCatalogs.load_catalog('dc2_object_run2.2i_dr6_with_addons', config_overwrite={'healpix_pixels': [10450]})\n",
    "\n",
    "q = catalog.list_all_quantities()\n",
    "# see all available quantities\n",
    "# print(sorted(q))\n",
    "\n",
    "# query quantities\n",
    "# [c for c in q if 'id_truth' in c]"
   ]
  },
  {
   "cell_type": "markdown",
   "id": "8b85aa1c-46aa-4a2c-b607-4039ac053762",
   "metadata": {},
   "source": [
    "We choose the columns we would like to use for analysis in next notebook."
   ]
  },
  {
   "cell_type": "code",
   "execution_count": 14,
   "id": "611a8982-3550-4612-8a7a-ddf9411d1142",
   "metadata": {},
   "outputs": [],
   "source": [
    "cols = ['cosmodc2_id_truth']\n",
    "\n",
    "for band in 'ugrizy':\n",
    "    cols += [f'mag_{band}_cModel', f'mag_{band}_truth', f'magerr_{band}_cModel']"
   ]
  },
  {
   "cell_type": "code",
   "execution_count": 15,
   "id": "a950ceda-397d-4d78-b4fb-2dfcc7c023a6",
   "metadata": {},
   "outputs": [],
   "source": [
    "generator = catalog.get_quantities(cols, native_filters='tract==3448', filters=['mag_i_truth < 26.8', 'cosmodc2_id_truth != -1'], return_iterator=True)"
   ]
  },
  {
   "cell_type": "code",
   "execution_count": 10,
   "id": "cb9b16ff-0681-4b1e-a3c9-e43330a19b51",
   "metadata": {},
   "outputs": [
    {
     "name": "stderr",
     "output_type": "stream",
     "text": [
      "/usr/local/py/envs/desc/lib/python3.8/site-packages/GCRCatalogs/dc2_dm_catalog.py:43: RuntimeWarning: divide by zero encountered in log10\n",
      "  return -2.5 * np.log10(flux) + AB_mag_zp_wrt_nanoJansky\n",
      "/usr/local/py/envs/desc/lib/python3.8/site-packages/GCRCatalogs/dc2_dm_catalog.py:43: RuntimeWarning: invalid value encountered in log10\n",
      "  return -2.5 * np.log10(flux) + AB_mag_zp_wrt_nanoJansky\n"
     ]
    },
    {
     "name": "stdout",
     "output_type": "stream",
     "text": [
      "(637844, 19)\n",
      "(1275688, 19)\n",
      "(1913532, 19)\n",
      "(2551376, 19)\n",
      "(3189220, 19)\n",
      "(3827064, 19)\n",
      "(4464908, 19)\n",
      "(5102752, 19)\n",
      "(5740596, 19)\n",
      "(6378440, 19)\n"
     ]
    }
   ],
   "source": [
    "df = pd.DataFrame(columns=cols)\n",
    "for i, d in enumerate(generator):\n",
    "    for i in range(10):\n",
    "        df = df.append(pd.DataFrame(d, columns=cols), ignore_index=True)\n",
    "        df = df.dropna(how='any')\n",
    "        print(df.shape)\n",
    "    if i == 10:\n",
    "        break"
   ]
  },
  {
   "cell_type": "code",
   "execution_count": 11,
   "id": "47f675dd-29cb-4d73-9d11-30e02522e118",
   "metadata": {},
   "outputs": [
    {
     "data": {
      "text/html": [
       "<div>\n",
       "<style scoped>\n",
       "    .dataframe tbody tr th:only-of-type {\n",
       "        vertical-align: middle;\n",
       "    }\n",
       "\n",
       "    .dataframe tbody tr th {\n",
       "        vertical-align: top;\n",
       "    }\n",
       "\n",
       "    .dataframe thead th {\n",
       "        text-align: right;\n",
       "    }\n",
       "</style>\n",
       "<table border=\"1\" class=\"dataframe\">\n",
       "  <thead>\n",
       "    <tr style=\"text-align: right;\">\n",
       "      <th></th>\n",
       "      <th>cosmodc2_id_truth</th>\n",
       "      <th>mag_u_cModel</th>\n",
       "      <th>mag_u_truth</th>\n",
       "      <th>magerr_u_cModel</th>\n",
       "      <th>mag_g_cModel</th>\n",
       "      <th>mag_g_truth</th>\n",
       "      <th>magerr_g_cModel</th>\n",
       "      <th>mag_r_cModel</th>\n",
       "      <th>mag_r_truth</th>\n",
       "      <th>magerr_r_cModel</th>\n",
       "      <th>mag_i_cModel</th>\n",
       "      <th>mag_i_truth</th>\n",
       "      <th>magerr_i_cModel</th>\n",
       "      <th>mag_z_cModel</th>\n",
       "      <th>mag_z_truth</th>\n",
       "      <th>magerr_z_cModel</th>\n",
       "      <th>mag_y_cModel</th>\n",
       "      <th>mag_y_truth</th>\n",
       "      <th>magerr_y_cModel</th>\n",
       "    </tr>\n",
       "  </thead>\n",
       "  <tbody>\n",
       "    <tr>\n",
       "      <th>0</th>\n",
       "      <td>9757893771</td>\n",
       "      <td>25.403819</td>\n",
       "      <td>25.040979</td>\n",
       "      <td>0.129801</td>\n",
       "      <td>25.008722</td>\n",
       "      <td>24.920948</td>\n",
       "      <td>0.041178</td>\n",
       "      <td>25.042115</td>\n",
       "      <td>24.890732</td>\n",
       "      <td>0.044431</td>\n",
       "      <td>25.055132</td>\n",
       "      <td>24.858370</td>\n",
       "      <td>0.077588</td>\n",
       "      <td>24.955879</td>\n",
       "      <td>24.619083</td>\n",
       "      <td>0.204164</td>\n",
       "      <td>24.868827</td>\n",
       "      <td>24.455359</td>\n",
       "      <td>0.399410</td>\n",
       "    </tr>\n",
       "    <tr>\n",
       "      <th>1</th>\n",
       "      <td>9755619494</td>\n",
       "      <td>26.661925</td>\n",
       "      <td>26.438885</td>\n",
       "      <td>0.485898</td>\n",
       "      <td>26.269268</td>\n",
       "      <td>26.565571</td>\n",
       "      <td>0.140656</td>\n",
       "      <td>26.446545</td>\n",
       "      <td>26.644583</td>\n",
       "      <td>0.185195</td>\n",
       "      <td>26.194918</td>\n",
       "      <td>26.527115</td>\n",
       "      <td>0.265715</td>\n",
       "      <td>26.285375</td>\n",
       "      <td>26.487595</td>\n",
       "      <td>0.794631</td>\n",
       "      <td>26.925919</td>\n",
       "      <td>25.965885</td>\n",
       "      <td>3.156536</td>\n",
       "    </tr>\n",
       "    <tr>\n",
       "      <th>2</th>\n",
       "      <td>9752138026</td>\n",
       "      <td>27.378007</td>\n",
       "      <td>27.212553</td>\n",
       "      <td>0.839420</td>\n",
       "      <td>27.376702</td>\n",
       "      <td>27.004620</td>\n",
       "      <td>0.338413</td>\n",
       "      <td>26.812035</td>\n",
       "      <td>26.575220</td>\n",
       "      <td>0.218456</td>\n",
       "      <td>25.852688</td>\n",
       "      <td>25.818033</td>\n",
       "      <td>0.161342</td>\n",
       "      <td>24.880547</td>\n",
       "      <td>25.414200</td>\n",
       "      <td>0.191969</td>\n",
       "      <td>25.434008</td>\n",
       "      <td>25.395538</td>\n",
       "      <td>0.742039</td>\n",
       "    </tr>\n",
       "    <tr>\n",
       "      <th>3</th>\n",
       "      <td>9750756795</td>\n",
       "      <td>27.349352</td>\n",
       "      <td>27.679865</td>\n",
       "      <td>1.169052</td>\n",
       "      <td>26.373768</td>\n",
       "      <td>26.292530</td>\n",
       "      <td>0.207011</td>\n",
       "      <td>25.014239</td>\n",
       "      <td>24.947500</td>\n",
       "      <td>0.056116</td>\n",
       "      <td>24.084178</td>\n",
       "      <td>24.091072</td>\n",
       "      <td>0.040529</td>\n",
       "      <td>23.462577</td>\n",
       "      <td>23.807713</td>\n",
       "      <td>0.072090</td>\n",
       "      <td>23.404635</td>\n",
       "      <td>23.602592</td>\n",
       "      <td>0.145046</td>\n",
       "    </tr>\n",
       "    <tr>\n",
       "      <th>4</th>\n",
       "      <td>9750164856</td>\n",
       "      <td>29.039567</td>\n",
       "      <td>28.124741</td>\n",
       "      <td>4.692849</td>\n",
       "      <td>26.466317</td>\n",
       "      <td>26.864693</td>\n",
       "      <td>0.193658</td>\n",
       "      <td>25.593136</td>\n",
       "      <td>25.809145</td>\n",
       "      <td>0.092514</td>\n",
       "      <td>25.200052</td>\n",
       "      <td>25.515120</td>\n",
       "      <td>0.106868</td>\n",
       "      <td>24.718435</td>\n",
       "      <td>25.341164</td>\n",
       "      <td>0.212958</td>\n",
       "      <td>24.908063</td>\n",
       "      <td>25.232611</td>\n",
       "      <td>0.500073</td>\n",
       "    </tr>\n",
       "  </tbody>\n",
       "</table>\n",
       "</div>"
      ],
      "text/plain": [
       "  cosmodc2_id_truth  mag_u_cModel  mag_u_truth  magerr_u_cModel  mag_g_cModel  \\\n",
       "0        9757893771     25.403819    25.040979         0.129801     25.008722   \n",
       "1        9755619494     26.661925    26.438885         0.485898     26.269268   \n",
       "2        9752138026     27.378007    27.212553         0.839420     27.376702   \n",
       "3        9750756795     27.349352    27.679865         1.169052     26.373768   \n",
       "4        9750164856     29.039567    28.124741         4.692849     26.466317   \n",
       "\n",
       "   mag_g_truth  magerr_g_cModel  mag_r_cModel  mag_r_truth  magerr_r_cModel  \\\n",
       "0    24.920948         0.041178     25.042115    24.890732         0.044431   \n",
       "1    26.565571         0.140656     26.446545    26.644583         0.185195   \n",
       "2    27.004620         0.338413     26.812035    26.575220         0.218456   \n",
       "3    26.292530         0.207011     25.014239    24.947500         0.056116   \n",
       "4    26.864693         0.193658     25.593136    25.809145         0.092514   \n",
       "\n",
       "   mag_i_cModel  mag_i_truth  magerr_i_cModel  mag_z_cModel  mag_z_truth  \\\n",
       "0     25.055132    24.858370         0.077588     24.955879    24.619083   \n",
       "1     26.194918    26.527115         0.265715     26.285375    26.487595   \n",
       "2     25.852688    25.818033         0.161342     24.880547    25.414200   \n",
       "3     24.084178    24.091072         0.040529     23.462577    23.807713   \n",
       "4     25.200052    25.515120         0.106868     24.718435    25.341164   \n",
       "\n",
       "   magerr_z_cModel  mag_y_cModel  mag_y_truth  magerr_y_cModel  \n",
       "0         0.204164     24.868827    24.455359         0.399410  \n",
       "1         0.794631     26.925919    25.965885         3.156536  \n",
       "2         0.191969     25.434008    25.395538         0.742039  \n",
       "3         0.072090     23.404635    23.602592         0.145046  \n",
       "4         0.212958     24.908063    25.232611         0.500073  "
      ]
     },
     "execution_count": 11,
     "metadata": {},
     "output_type": "execute_result"
    }
   ],
   "source": [
    "df.head()"
   ]
  },
  {
   "cell_type": "markdown",
   "id": "8fe770fd-b0d6-4428-a2ec-3e7f6f42b729",
   "metadata": {},
   "source": [
    "Now we save the dataframe to .pkl file to be read in next notebook!"
   ]
  },
  {
   "cell_type": "code",
   "execution_count": 17,
   "id": "f16974a6-e6aa-4859-98d2-b0fd85064859",
   "metadata": {},
   "outputs": [],
   "source": [
    "df.to_pickle(\"GCRCatalog_data.pkl\")"
   ]
  },
  {
   "cell_type": "markdown",
   "id": "df9e1a2b-fcbb-4035-bc4b-d7fe48dafe6d",
   "metadata": {},
   "source": [
    "Now you're ready to visualize magnitude scatter in __MagErrorSimulator() Demo (2)__!"
   ]
  },
  {
   "cell_type": "code",
   "execution_count": null,
   "id": "f0ad5829-6258-4c05-9501-ff569f91a245",
   "metadata": {},
   "outputs": [],
   "source": []
  }
 ],
 "metadata": {
  "kernelspec": {
   "display_name": "desc-python",
   "language": "python",
   "name": "desc-python"
  },
  "language_info": {
   "codemirror_mode": {
    "name": "ipython",
    "version": 3
   },
   "file_extension": ".py",
   "mimetype": "text/x-python",
   "name": "python",
   "nbconvert_exporter": "python",
   "pygments_lexer": "ipython3",
   "version": "3.8.8"
  }
 },
 "nbformat": 4,
 "nbformat_minor": 5
}
